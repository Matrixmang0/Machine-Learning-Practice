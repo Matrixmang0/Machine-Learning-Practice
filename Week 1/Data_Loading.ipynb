{
  "cells": [
    {
      "cell_type": "markdown",
      "metadata": {
        "id": "h_IYyDSUIeCo"
      },
      "source": [
        "# Introduction\n",
        "\n",
        "The objective of this colab is to demonstrate `sklearn` dataset API.\n",
        "\n",
        "Recall that it has three APIs:\n",
        "1. Loaders (`load_*`) load small standard datasets bundled with `sklearn`.\n",
        "2. Fetchers (`fetch_*`) fetch large datasets from the internet and loads them in memory.\n",
        "3. Generators (`generate_*`) generate controlled synthetic datasets.\n",
        "\n",
        "Loaders and fetchers return a `bunch` object and generators return a tuple of feature matrix and label vector (or matrix)."
      ]
    },
    {
      "cell_type": "markdown",
      "metadata": {
        "id": "90ku314iLQdl"
      },
      "source": [
        "# Loaders"
      ]
    },
    {
      "cell_type": "markdown",
      "metadata": {
        "id": "nRVn48pqqSmx"
      },
      "source": [
        "## Loading iris dataset"
      ]
    },
    {
      "cell_type": "code",
      "execution_count": 1,
      "metadata": {
        "id": "kpLYDlQaIUUu"
      },
      "outputs": [],
      "source": [
        "from sklearn.datasets import load_iris\n",
        "data = load_iris()"
      ]
    },
    {
      "cell_type": "markdown",
      "metadata": {
        "id": "kwwCZAJGLw7L"
      },
      "source": [
        "This returns a `Bunch` object `data` which is a dictionary like object with the following attributes:\n",
        "* `data`, which has the feature matrix.\n",
        "* `target`, which is the label vector\n",
        "* `feature_names` contain the names of the features.\n",
        "* `target_names` contain the names of the classes.\n",
        "* `DESCR` has the full description of dataset.\n",
        "* `filename` has the path to the location of data."
      ]
    },
    {
      "cell_type": "code",
      "execution_count": 2,
      "metadata": {
        "colab": {
          "base_uri": "https://localhost:8080/"
        },
        "id": "4HlqJGSXpN60",
        "outputId": "c0f5f0af-fa9c-45ee-ca7f-9bae192e9cc0"
      },
      "outputs": [
        {
          "output_type": "execute_result",
          "data": {
            "text/plain": [
              "sklearn.utils._bunch.Bunch"
            ]
          },
          "metadata": {},
          "execution_count": 2
        }
      ],
      "source": [
        "type(data)"
      ]
    },
    {
      "cell_type": "markdown",
      "metadata": {
        "id": "KFKGPeNvMmys"
      },
      "source": [
        "We can access them one by one and examine their contents.  For example, we can access `feature_names` as follows:"
      ]
    },
    {
      "cell_type": "code",
      "execution_count": 3,
      "metadata": {
        "colab": {
          "base_uri": "https://localhost:8080/"
        },
        "id": "zKtD9ST0L7Hf",
        "outputId": "3b938d96-99a2-4284-9636-4e145102a6f4"
      },
      "outputs": [
        {
          "output_type": "execute_result",
          "data": {
            "text/plain": [
              "['sepal length (cm)',\n",
              " 'sepal width (cm)',\n",
              " 'petal length (cm)',\n",
              " 'petal width (cm)']"
            ]
          },
          "metadata": {},
          "execution_count": 3
        }
      ],
      "source": [
        "data.feature_names"
      ]
    },
    {
      "cell_type": "markdown",
      "metadata": {
        "id": "1ALnnFhkiW_6"
      },
      "source": [
        "We can see the names of the features in this dataset."
      ]
    },
    {
      "cell_type": "markdown",
      "metadata": {
        "id": "LugwWwLmjnjh"
      },
      "source": [
        "Let's examine the names of the labels."
      ]
    },
    {
      "cell_type": "code",
      "execution_count": 4,
      "metadata": {
        "colab": {
          "base_uri": "https://localhost:8080/"
        },
        "id": "9eFTkExyjqeh",
        "outputId": "e95f3ffe-4323-4dd2-ca1f-1ce4f7a3a593"
      },
      "outputs": [
        {
          "output_type": "execute_result",
          "data": {
            "text/plain": [
              "array(['setosa', 'versicolor', 'virginica'], dtype='<U10')"
            ]
          },
          "metadata": {},
          "execution_count": 4
        }
      ],
      "source": [
        "data.target_names"
      ]
    },
    {
      "cell_type": "markdown",
      "metadata": {
        "id": "XCZDlH1xjxOZ"
      },
      "source": [
        "There are three classes: `setosa`, `versicolor`, `virginica`."
      ]
    },
    {
      "cell_type": "markdown",
      "metadata": {
        "id": "_OUTZ1NhibOA"
      },
      "source": [
        "The feature matrix can be accessed as follows: `data.data`.  Let's look at the first five examples in feature matrix."
      ]
    },
    {
      "cell_type": "code",
      "execution_count": 5,
      "metadata": {
        "colab": {
          "base_uri": "https://localhost:8080/"
        },
        "id": "TZkGny8lii3C",
        "outputId": "40ab94db-8d29-4043-84bf-a66539398c82"
      },
      "outputs": [
        {
          "output_type": "execute_result",
          "data": {
            "text/plain": [
              "array([[5.1, 3.5, 1.4, 0.2],\n",
              "       [4.9, 3. , 1.4, 0.2],\n",
              "       [4.7, 3.2, 1.3, 0.2],\n",
              "       [4.6, 3.1, 1.5, 0.2],\n",
              "       [5. , 3.6, 1.4, 0.2]])"
            ]
          },
          "metadata": {},
          "execution_count": 5
        }
      ],
      "source": [
        "data.data[:5]"
      ]
    },
    {
      "cell_type": "markdown",
      "metadata": {
        "id": "rZ8JHFoiinZt"
      },
      "source": [
        "We can observe 4 features per example."
      ]
    },
    {
      "cell_type": "markdown",
      "metadata": {
        "id": "i79v88qGjQ8Y"
      },
      "source": [
        "Let's examine the shape of the feature matrix."
      ]
    },
    {
      "cell_type": "code",
      "execution_count": 6,
      "metadata": {
        "colab": {
          "base_uri": "https://localhost:8080/"
        },
        "id": "Hv2DY6y-jUBB",
        "outputId": "a681440d-7b12-48ec-de95-7565c8a214af"
      },
      "outputs": [
        {
          "output_type": "execute_result",
          "data": {
            "text/plain": [
              "(150, 4)"
            ]
          },
          "metadata": {},
          "execution_count": 6
        }
      ],
      "source": [
        "data.data.shape"
      ]
    },
    {
      "cell_type": "markdown",
      "metadata": {
        "id": "18BPrQ2CjZyB"
      },
      "source": [
        "There are 150 examples and each example has 4 features."
      ]
    },
    {
      "cell_type": "markdown",
      "metadata": {
        "id": "uyiUkvSVjjpJ"
      },
      "source": [
        "Finally, we will examine the label vector and its shape."
      ]
    },
    {
      "cell_type": "code",
      "execution_count": 7,
      "metadata": {
        "colab": {
          "base_uri": "https://localhost:8080/"
        },
        "id": "5QZ_WsDmkJBB",
        "outputId": "1ed2c85f-8354-4b06-9c25-a1c18f81475f"
      },
      "outputs": [
        {
          "output_type": "execute_result",
          "data": {
            "text/plain": [
              "array([0, 0, 0, 0, 0, 0, 0, 0, 0, 0, 0, 0, 0, 0, 0, 0, 0, 0, 0, 0, 0, 0,\n",
              "       0, 0, 0, 0, 0, 0, 0, 0, 0, 0, 0, 0, 0, 0, 0, 0, 0, 0, 0, 0, 0, 0,\n",
              "       0, 0, 0, 0, 0, 0, 1, 1, 1, 1, 1, 1, 1, 1, 1, 1, 1, 1, 1, 1, 1, 1,\n",
              "       1, 1, 1, 1, 1, 1, 1, 1, 1, 1, 1, 1, 1, 1, 1, 1, 1, 1, 1, 1, 1, 1,\n",
              "       1, 1, 1, 1, 1, 1, 1, 1, 1, 1, 1, 1, 2, 2, 2, 2, 2, 2, 2, 2, 2, 2,\n",
              "       2, 2, 2, 2, 2, 2, 2, 2, 2, 2, 2, 2, 2, 2, 2, 2, 2, 2, 2, 2, 2, 2,\n",
              "       2, 2, 2, 2, 2, 2, 2, 2, 2, 2, 2, 2, 2, 2, 2, 2, 2, 2])"
            ]
          },
          "metadata": {},
          "execution_count": 7
        }
      ],
      "source": [
        "data.target"
      ]
    },
    {
      "cell_type": "markdown",
      "metadata": {
        "id": "Fg1c-fYMkQFJ"
      },
      "source": [
        "There are 50 examples each from three classes: 0, 1 and 2."
      ]
    },
    {
      "cell_type": "markdown",
      "metadata": {
        "id": "6kcU-l-QlAdq"
      },
      "source": [
        "We can read additional documentation about `load_iris` in the following manner:"
      ]
    },
    {
      "cell_type": "code",
      "execution_count": 8,
      "metadata": {
        "id": "JXUb10GIlHsy"
      },
      "outputs": [],
      "source": [
        "?load_iris"
      ]
    },
    {
      "cell_type": "markdown",
      "metadata": {
        "id": "lMOf6hLXkj25"
      },
      "source": [
        "In this way, we can load and examine different datasets."
      ]
    },
    {
      "cell_type": "markdown",
      "metadata": {
        "id": "JgIRhbZZpgx8"
      },
      "source": [
        "We can obtain feature matrix and label or target from `load_iris` and other loaders in general by setting `return_X_y` argument to `True`."
      ]
    },
    {
      "cell_type": "code",
      "execution_count": 9,
      "metadata": {
        "colab": {
          "base_uri": "https://localhost:8080/"
        },
        "id": "lIACYuRUpwqi",
        "outputId": "b089101f-bad0-44dc-9816-9be7471078a5"
      },
      "outputs": [
        {
          "output_type": "stream",
          "name": "stdout",
          "text": [
            "Shape of feature matrix: (150, 4)\n",
            "Shape of label vector: (150,)\n"
          ]
        }
      ],
      "source": [
        "feature_matrix, label_vector = load_iris(return_X_y=True)\n",
        "print ('Shape of feature matrix:', feature_matrix.shape)\n",
        "print ('Shape of label vector:', label_vector.shape)"
      ]
    },
    {
      "cell_type": "markdown",
      "metadata": {
        "id": "l2RGDz9WkqKo"
      },
      "source": [
        "## Loading diabetes dataset"
      ]
    },
    {
      "cell_type": "code",
      "execution_count": 10,
      "metadata": {
        "id": "MGLq6ElpkxnS"
      },
      "outputs": [],
      "source": [
        "from sklearn.datasets import load_diabetes\n",
        "diabetes_data = load_diabetes()"
      ]
    },
    {
      "cell_type": "markdown",
      "metadata": {
        "id": "PT4X6Gkmlblw"
      },
      "source": [
        "Additional details about this loader can be accessed from the documentation."
      ]
    },
    {
      "cell_type": "code",
      "execution_count": 11,
      "metadata": {
        "id": "FhRZj1JQk2uR"
      },
      "outputs": [],
      "source": [
        "?load_diabetes"
      ]
    },
    {
      "cell_type": "markdown",
      "metadata": {
        "id": "YIYK2W1ipjYx"
      },
      "source": [
        "### `load_diabetes`"
      ]
    },
    {
      "cell_type": "markdown",
      "metadata": {
        "id": "c44zl0ivpjYz"
      },
      "source": [
        "**Step 2.** Load the dataset and obtain a `Bunch` object."
      ]
    },
    {
      "cell_type": "code",
      "execution_count": 12,
      "metadata": {
        "id": "952WN2BCpjYz",
        "outputId": "fc4b5fa6-fb73-4f5e-a1b7-50d702839113",
        "colab": {
          "base_uri": "https://localhost:8080/"
        }
      },
      "outputs": [
        {
          "output_type": "execute_result",
          "data": {
            "text/plain": [
              "sklearn.utils._bunch.Bunch"
            ]
          },
          "metadata": {},
          "execution_count": 12
        }
      ],
      "source": [
        "type(diabetes_data)"
      ]
    },
    {
      "cell_type": "markdown",
      "metadata": {
        "id": "7bbH6k6CpjYz"
      },
      "source": [
        "**Step 3.** Examine the bunch object."
      ]
    },
    {
      "cell_type": "markdown",
      "metadata": {
        "id": "vFebCd_MpjY0"
      },
      "source": [
        "Look at the description of the dataset."
      ]
    },
    {
      "cell_type": "code",
      "execution_count": 13,
      "metadata": {
        "colab": {
          "base_uri": "https://localhost:8080/",
          "height": 157
        },
        "id": "UeVfxKZbpjY0",
        "outputId": "3b06ceef-e6d0-49f1-ad39-4e41144dd6b4"
      },
      "outputs": [
        {
          "output_type": "execute_result",
          "data": {
            "text/plain": [
              "'.. _diabetes_dataset:\\n\\nDiabetes dataset\\n----------------\\n\\nTen baseline variables, age, sex, body mass index, average blood\\npressure, and six blood serum measurements were obtained for each of n =\\n442 diabetes patients, as well as the response of interest, a\\nquantitative measure of disease progression one year after baseline.\\n\\n**Data Set Characteristics:**\\n\\n  :Number of Instances: 442\\n\\n  :Number of Attributes: First 10 columns are numeric predictive values\\n\\n  :Target: Column 11 is a quantitative measure of disease progression one year after baseline\\n\\n  :Attribute Information:\\n      - age     age in years\\n      - sex\\n      - bmi     body mass index\\n      - bp      average blood pressure\\n      - s1      tc, total serum cholesterol\\n      - s2      ldl, low-density lipoproteins\\n      - s3      hdl, high-density lipoproteins\\n      - s4      tch, total cholesterol / HDL\\n      - s5      ltg, possibly log of serum triglycerides level\\n      - s6      glu, blood sugar level\\n\\nNote: Each of these 10 feature variables have been mean centered and scaled by the standard deviation times the square root of `n_samples` (i.e. the sum of squares of each column totals 1).\\n\\nSource URL:\\nhttps://www4.stat.ncsu.edu/~boos/var.select/diabetes.html\\n\\nFor more information see:\\nBradley Efron, Trevor Hastie, Iain Johnstone and Robert Tibshirani (2004) \"Least Angle Regression,\" Annals of Statistics (with discussion), 407-499.\\n(https://web.stanford.edu/~hastie/Papers/LARS/LeastAngle_2002.pdf)\\n'"
            ],
            "application/vnd.google.colaboratory.intrinsic+json": {
              "type": "string"
            }
          },
          "metadata": {},
          "execution_count": 13
        }
      ],
      "source": [
        "diabetes_data.DESCR"
      ]
    },
    {
      "cell_type": "markdown",
      "metadata": {
        "id": "zhJjrPt7pjY0"
      },
      "source": [
        "Find out the shape of the feature matrix."
      ]
    },
    {
      "cell_type": "code",
      "execution_count": 14,
      "metadata": {
        "id": "B47UafS-pjY0",
        "outputId": "7723c974-dfc9-474c-d2fa-1a45c19438e0",
        "colab": {
          "base_uri": "https://localhost:8080/"
        }
      },
      "outputs": [
        {
          "output_type": "execute_result",
          "data": {
            "text/plain": [
              "(442, 10)"
            ]
          },
          "metadata": {},
          "execution_count": 14
        }
      ],
      "source": [
        "feature_matrix = diabetes_data.data\n",
        "feature_matrix.shape"
      ]
    },
    {
      "cell_type": "markdown",
      "metadata": {
        "id": "9PaUvhqlpjY0"
      },
      "source": [
        "Look at the first five examples from the feature matrix."
      ]
    },
    {
      "cell_type": "code",
      "execution_count": 15,
      "metadata": {
        "id": "1l4oyudypjY0",
        "outputId": "2bdf421f-29a7-4aa2-d55e-a2368bbb6096",
        "colab": {
          "base_uri": "https://localhost:8080/"
        }
      },
      "outputs": [
        {
          "output_type": "execute_result",
          "data": {
            "text/plain": [
              "array([[ 0.03807591,  0.05068012,  0.06169621,  0.02187239, -0.0442235 ,\n",
              "        -0.03482076, -0.04340085, -0.00259226,  0.01990749, -0.01764613],\n",
              "       [-0.00188202, -0.04464164, -0.05147406, -0.02632753, -0.00844872,\n",
              "        -0.01916334,  0.07441156, -0.03949338, -0.06833155, -0.09220405],\n",
              "       [ 0.08529891,  0.05068012,  0.04445121, -0.00567042, -0.04559945,\n",
              "        -0.03419447, -0.03235593, -0.00259226,  0.00286131, -0.02593034],\n",
              "       [-0.08906294, -0.04464164, -0.01159501, -0.03665608,  0.01219057,\n",
              "         0.02499059, -0.03603757,  0.03430886,  0.02268774, -0.00936191],\n",
              "       [ 0.00538306, -0.04464164, -0.03638469,  0.02187239,  0.00393485,\n",
              "         0.01559614,  0.00814208, -0.00259226, -0.03198764, -0.04664087]])"
            ]
          },
          "metadata": {},
          "execution_count": 15
        }
      ],
      "source": [
        "feature_matrix[:5]"
      ]
    },
    {
      "cell_type": "markdown",
      "metadata": {
        "id": "MZvYYsQ2pjY1"
      },
      "source": [
        "Find out the shape of the label matrix."
      ]
    },
    {
      "cell_type": "code",
      "execution_count": 16,
      "metadata": {
        "id": "x4_bwnh-pjY1",
        "outputId": "7736f38b-8dd4-416a-a147-aadef7c50619",
        "colab": {
          "base_uri": "https://localhost:8080/"
        }
      },
      "outputs": [
        {
          "output_type": "execute_result",
          "data": {
            "text/plain": [
              "(442,)"
            ]
          },
          "metadata": {},
          "execution_count": 16
        }
      ],
      "source": [
        "label_matrix = diabetes_data.target\n",
        "label_matrix.shape"
      ]
    },
    {
      "cell_type": "markdown",
      "metadata": {
        "id": "aBVHP4-OpjY1"
      },
      "source": [
        "Look at the labels of the first five examples."
      ]
    },
    {
      "cell_type": "code",
      "execution_count": 17,
      "metadata": {
        "id": "A2mSGDgmpjY1",
        "outputId": "403db15c-be96-477f-9cd1-899ebdcba5b1",
        "colab": {
          "base_uri": "https://localhost:8080/"
        }
      },
      "outputs": [
        {
          "output_type": "execute_result",
          "data": {
            "text/plain": [
              "array([151.,  75., 141., 206., 135.])"
            ]
          },
          "metadata": {},
          "execution_count": 17
        }
      ],
      "source": [
        "label_matrix[:5]"
      ]
    },
    {
      "cell_type": "markdown",
      "metadata": {
        "id": "DrI4bUhOpjY1"
      },
      "source": [
        "Find out the names of the features."
      ]
    },
    {
      "cell_type": "code",
      "execution_count": 18,
      "metadata": {
        "id": "xqlgXupdpjY1",
        "outputId": "16547483-3e9b-4645-ccfd-60ffd2f647d8",
        "colab": {
          "base_uri": "https://localhost:8080/"
        }
      },
      "outputs": [
        {
          "output_type": "execute_result",
          "data": {
            "text/plain": [
              "['age', 'sex', 'bmi', 'bp', 's1', 's2', 's3', 's4', 's5', 's6']"
            ]
          },
          "metadata": {},
          "execution_count": 18
        }
      ],
      "source": [
        "diabetes_data.feature_names"
      ]
    },
    {
      "cell_type": "markdown",
      "metadata": {
        "id": "IESmYZ1qlqvG"
      },
      "source": [
        "## Loading digits dataset"
      ]
    },
    {
      "cell_type": "code",
      "execution_count": 19,
      "metadata": {
        "id": "y5O026WYlt1O"
      },
      "outputs": [],
      "source": [
        "from sklearn.datasets import load_digits\n",
        "?load_digits"
      ]
    },
    {
      "cell_type": "code",
      "execution_count": 20,
      "metadata": {
        "id": "umrTTNT0lze1"
      },
      "outputs": [],
      "source": [
        "digits_data = load_digits()"
      ]
    },
    {
      "cell_type": "markdown",
      "metadata": {
        "id": "pTcsa4WCp6dx"
      },
      "source": [
        "### `load_digits`"
      ]
    },
    {
      "cell_type": "markdown",
      "metadata": {
        "id": "3M14aewJp6dy"
      },
      "source": [
        "**Step 2.** Load the dataset and obtain a `Bunch` object."
      ]
    },
    {
      "cell_type": "code",
      "execution_count": 21,
      "metadata": {
        "id": "zcfvj87Sp6dy",
        "outputId": "4ec61ce1-dcd6-4c74-befb-869c208fc3ad",
        "colab": {
          "base_uri": "https://localhost:8080/"
        }
      },
      "outputs": [
        {
          "output_type": "execute_result",
          "data": {
            "text/plain": [
              "sklearn.utils._bunch.Bunch"
            ]
          },
          "metadata": {},
          "execution_count": 21
        }
      ],
      "source": [
        "type(digits_data)"
      ]
    },
    {
      "cell_type": "markdown",
      "metadata": {
        "id": "OcZlUn9Hp6dy"
      },
      "source": [
        "**Step 3.** Examine the bunch object."
      ]
    },
    {
      "cell_type": "markdown",
      "metadata": {
        "id": "Af0c-h3_p6dy"
      },
      "source": [
        "Look at the description of the dataset."
      ]
    },
    {
      "cell_type": "code",
      "execution_count": 22,
      "metadata": {
        "id": "1RQ2fMtZp6dz",
        "outputId": "4a7ded69-c742-4e2e-e7d6-44e1d9eeb138",
        "colab": {
          "base_uri": "https://localhost:8080/",
          "height": 157
        }
      },
      "outputs": [
        {
          "output_type": "execute_result",
          "data": {
            "text/plain": [
              "\".. _digits_dataset:\\n\\nOptical recognition of handwritten digits dataset\\n--------------------------------------------------\\n\\n**Data Set Characteristics:**\\n\\n    :Number of Instances: 1797\\n    :Number of Attributes: 64\\n    :Attribute Information: 8x8 image of integer pixels in the range 0..16.\\n    :Missing Attribute Values: None\\n    :Creator: E. Alpaydin (alpaydin '@' boun.edu.tr)\\n    :Date: July; 1998\\n\\nThis is a copy of the test set of the UCI ML hand-written digits datasets\\nhttps://archive.ics.uci.edu/ml/datasets/Optical+Recognition+of+Handwritten+Digits\\n\\nThe data set contains images of hand-written digits: 10 classes where\\neach class refers to a digit.\\n\\nPreprocessing programs made available by NIST were used to extract\\nnormalized bitmaps of handwritten digits from a preprinted form. From a\\ntotal of 43 people, 30 contributed to the training set and different 13\\nto the test set. 32x32 bitmaps are divided into nonoverlapping blocks of\\n4x4 and the number of on pixels are counted in each block. This generates\\nan input matrix of 8x8 where each element is an integer in the range\\n0..16. This reduces dimensionality and gives invariance to small\\ndistortions.\\n\\nFor info on NIST preprocessing routines, see M. D. Garris, J. L. Blue, G.\\nT. Candela, D. L. Dimmick, J. Geist, P. J. Grother, S. A. Janet, and C.\\nL. Wilson, NIST Form-Based Handprint Recognition System, NISTIR 5469,\\n1994.\\n\\n.. topic:: References\\n\\n  - C. Kaynak (1995) Methods of Combining Multiple Classifiers and Their\\n    Applications to Handwritten Digit Recognition, MSc Thesis, Institute of\\n    Graduate Studies in Science and Engineering, Bogazici University.\\n  - E. Alpaydin, C. Kaynak (1998) Cascading Classifiers, Kybernetika.\\n  - Ken Tang and Ponnuthurai N. Suganthan and Xi Yao and A. Kai Qin.\\n    Linear dimensionalityreduction using relevance weighted LDA. School of\\n    Electrical and Electronic Engineering Nanyang Technological University.\\n    2005.\\n  - Claudio Gentile. A New Approximate Maximal Margin Classification\\n    Algorithm. NIPS. 2000.\\n\""
            ],
            "application/vnd.google.colaboratory.intrinsic+json": {
              "type": "string"
            }
          },
          "metadata": {},
          "execution_count": 22
        }
      ],
      "source": [
        "digits_data.DESCR"
      ]
    },
    {
      "cell_type": "markdown",
      "metadata": {
        "id": "yRve7pOqp6dz"
      },
      "source": [
        "Find out the shape of the feature matrix."
      ]
    },
    {
      "cell_type": "code",
      "execution_count": 23,
      "metadata": {
        "id": "Uo6O3qMap6dz",
        "outputId": "4b7801c4-1c1b-4aee-9fce-88d34c3a0055",
        "colab": {
          "base_uri": "https://localhost:8080/"
        }
      },
      "outputs": [
        {
          "output_type": "execute_result",
          "data": {
            "text/plain": [
              "(1797, 64)"
            ]
          },
          "metadata": {},
          "execution_count": 23
        }
      ],
      "source": [
        "feature_matrix = digits_data.data\n",
        "feature_matrix.shape"
      ]
    },
    {
      "cell_type": "markdown",
      "metadata": {
        "id": "PGk1dXgsp6dz"
      },
      "source": [
        "Look at the first five examples from the feature matrix."
      ]
    },
    {
      "cell_type": "code",
      "execution_count": 24,
      "metadata": {
        "id": "QirmJQdpp6dz",
        "outputId": "66a4d432-5fee-446b-b637-fb1f5d20ae69",
        "colab": {
          "base_uri": "https://localhost:8080/"
        }
      },
      "outputs": [
        {
          "output_type": "execute_result",
          "data": {
            "text/plain": [
              "array([[ 0.,  0.,  5., 13.,  9.,  1.,  0.,  0.,  0.,  0., 13., 15., 10.,\n",
              "        15.,  5.,  0.,  0.,  3., 15.,  2.,  0., 11.,  8.,  0.,  0.,  4.,\n",
              "        12.,  0.,  0.,  8.,  8.,  0.,  0.,  5.,  8.,  0.,  0.,  9.,  8.,\n",
              "         0.,  0.,  4., 11.,  0.,  1., 12.,  7.,  0.,  0.,  2., 14.,  5.,\n",
              "        10., 12.,  0.,  0.,  0.,  0.,  6., 13., 10.,  0.,  0.,  0.],\n",
              "       [ 0.,  0.,  0., 12., 13.,  5.,  0.,  0.,  0.,  0.,  0., 11., 16.,\n",
              "         9.,  0.,  0.,  0.,  0.,  3., 15., 16.,  6.,  0.,  0.,  0.,  7.,\n",
              "        15., 16., 16.,  2.,  0.,  0.,  0.,  0.,  1., 16., 16.,  3.,  0.,\n",
              "         0.,  0.,  0.,  1., 16., 16.,  6.,  0.,  0.,  0.,  0.,  1., 16.,\n",
              "        16.,  6.,  0.,  0.,  0.,  0.,  0., 11., 16., 10.,  0.,  0.],\n",
              "       [ 0.,  0.,  0.,  4., 15., 12.,  0.,  0.,  0.,  0.,  3., 16., 15.,\n",
              "        14.,  0.,  0.,  0.,  0.,  8., 13.,  8., 16.,  0.,  0.,  0.,  0.,\n",
              "         1.,  6., 15., 11.,  0.,  0.,  0.,  1.,  8., 13., 15.,  1.,  0.,\n",
              "         0.,  0.,  9., 16., 16.,  5.,  0.,  0.,  0.,  0.,  3., 13., 16.,\n",
              "        16., 11.,  5.,  0.,  0.,  0.,  0.,  3., 11., 16.,  9.,  0.],\n",
              "       [ 0.,  0.,  7., 15., 13.,  1.,  0.,  0.,  0.,  8., 13.,  6., 15.,\n",
              "         4.,  0.,  0.,  0.,  2.,  1., 13., 13.,  0.,  0.,  0.,  0.,  0.,\n",
              "         2., 15., 11.,  1.,  0.,  0.,  0.,  0.,  0.,  1., 12., 12.,  1.,\n",
              "         0.,  0.,  0.,  0.,  0.,  1., 10.,  8.,  0.,  0.,  0.,  8.,  4.,\n",
              "         5., 14.,  9.,  0.,  0.,  0.,  7., 13., 13.,  9.,  0.,  0.],\n",
              "       [ 0.,  0.,  0.,  1., 11.,  0.,  0.,  0.,  0.,  0.,  0.,  7.,  8.,\n",
              "         0.,  0.,  0.,  0.,  0.,  1., 13.,  6.,  2.,  2.,  0.,  0.,  0.,\n",
              "         7., 15.,  0.,  9.,  8.,  0.,  0.,  5., 16., 10.,  0., 16.,  6.,\n",
              "         0.,  0.,  4., 15., 16., 13., 16.,  1.,  0.,  0.,  0.,  0.,  3.,\n",
              "        15., 10.,  0.,  0.,  0.,  0.,  0.,  2., 16.,  4.,  0.,  0.]])"
            ]
          },
          "metadata": {},
          "execution_count": 24
        }
      ],
      "source": [
        "feature_matrix[:5]"
      ]
    },
    {
      "cell_type": "markdown",
      "metadata": {
        "id": "Tj3tgwFOp6dz"
      },
      "source": [
        "Find out the shape of the label matrix."
      ]
    },
    {
      "cell_type": "code",
      "execution_count": 25,
      "metadata": {
        "id": "KqfvOtxCp6d0",
        "outputId": "f12d2378-9430-416a-f3ca-2fd78e9691ce",
        "colab": {
          "base_uri": "https://localhost:8080/"
        }
      },
      "outputs": [
        {
          "output_type": "execute_result",
          "data": {
            "text/plain": [
              "(1797,)"
            ]
          },
          "metadata": {},
          "execution_count": 25
        }
      ],
      "source": [
        "label_matrix = digits_data.target\n",
        "label_matrix.shape"
      ]
    },
    {
      "cell_type": "markdown",
      "metadata": {
        "id": "lfZP5yMTp6d0"
      },
      "source": [
        "Look at the labels of the first five examples."
      ]
    },
    {
      "cell_type": "code",
      "execution_count": 26,
      "metadata": {
        "id": "bNveshRmp6d0",
        "outputId": "b684d7e1-d787-4de2-d466-636f6885efed",
        "colab": {
          "base_uri": "https://localhost:8080/"
        }
      },
      "outputs": [
        {
          "output_type": "execute_result",
          "data": {
            "text/plain": [
              "array([0, 1, 2, 3, 4])"
            ]
          },
          "metadata": {},
          "execution_count": 26
        }
      ],
      "source": [
        "label_matrix[:5]"
      ]
    },
    {
      "cell_type": "markdown",
      "metadata": {
        "id": "AsfIcNNVp6d0"
      },
      "source": [
        "Find out the names of the features."
      ]
    },
    {
      "cell_type": "code",
      "execution_count": 27,
      "metadata": {
        "id": "29wzHzGDp6d0",
        "outputId": "04b6d560-961a-4d6e-8653-bb0ce3bb0a55",
        "colab": {
          "base_uri": "https://localhost:8080/"
        }
      },
      "outputs": [
        {
          "output_type": "execute_result",
          "data": {
            "text/plain": [
              "['pixel_0_0',\n",
              " 'pixel_0_1',\n",
              " 'pixel_0_2',\n",
              " 'pixel_0_3',\n",
              " 'pixel_0_4',\n",
              " 'pixel_0_5',\n",
              " 'pixel_0_6',\n",
              " 'pixel_0_7',\n",
              " 'pixel_1_0',\n",
              " 'pixel_1_1',\n",
              " 'pixel_1_2',\n",
              " 'pixel_1_3',\n",
              " 'pixel_1_4',\n",
              " 'pixel_1_5',\n",
              " 'pixel_1_6',\n",
              " 'pixel_1_7',\n",
              " 'pixel_2_0',\n",
              " 'pixel_2_1',\n",
              " 'pixel_2_2',\n",
              " 'pixel_2_3',\n",
              " 'pixel_2_4',\n",
              " 'pixel_2_5',\n",
              " 'pixel_2_6',\n",
              " 'pixel_2_7',\n",
              " 'pixel_3_0',\n",
              " 'pixel_3_1',\n",
              " 'pixel_3_2',\n",
              " 'pixel_3_3',\n",
              " 'pixel_3_4',\n",
              " 'pixel_3_5',\n",
              " 'pixel_3_6',\n",
              " 'pixel_3_7',\n",
              " 'pixel_4_0',\n",
              " 'pixel_4_1',\n",
              " 'pixel_4_2',\n",
              " 'pixel_4_3',\n",
              " 'pixel_4_4',\n",
              " 'pixel_4_5',\n",
              " 'pixel_4_6',\n",
              " 'pixel_4_7',\n",
              " 'pixel_5_0',\n",
              " 'pixel_5_1',\n",
              " 'pixel_5_2',\n",
              " 'pixel_5_3',\n",
              " 'pixel_5_4',\n",
              " 'pixel_5_5',\n",
              " 'pixel_5_6',\n",
              " 'pixel_5_7',\n",
              " 'pixel_6_0',\n",
              " 'pixel_6_1',\n",
              " 'pixel_6_2',\n",
              " 'pixel_6_3',\n",
              " 'pixel_6_4',\n",
              " 'pixel_6_5',\n",
              " 'pixel_6_6',\n",
              " 'pixel_6_7',\n",
              " 'pixel_7_0',\n",
              " 'pixel_7_1',\n",
              " 'pixel_7_2',\n",
              " 'pixel_7_3',\n",
              " 'pixel_7_4',\n",
              " 'pixel_7_5',\n",
              " 'pixel_7_6',\n",
              " 'pixel_7_7']"
            ]
          },
          "metadata": {},
          "execution_count": 27
        }
      ],
      "source": [
        "digits_data.feature_names"
      ]
    },
    {
      "cell_type": "markdown",
      "metadata": {
        "id": "cm0eLIBLp6d1"
      },
      "source": [
        "Find names of class labels."
      ]
    },
    {
      "cell_type": "code",
      "execution_count": 28,
      "metadata": {
        "id": "GcMD5c-up6d1",
        "outputId": "ec819fe4-d8ec-44fe-8724-9771f1920d63",
        "colab": {
          "base_uri": "https://localhost:8080/"
        }
      },
      "outputs": [
        {
          "output_type": "execute_result",
          "data": {
            "text/plain": [
              "array([0, 1, 2, 3, 4, 5, 6, 7, 8, 9])"
            ]
          },
          "metadata": {},
          "execution_count": 28
        }
      ],
      "source": [
        "digits_data.target_names"
      ]
    },
    {
      "cell_type": "markdown",
      "metadata": {
        "id": "g8NXrBSkmA4z"
      },
      "source": [
        "## Exercise\n",
        "\n",
        "Experiment with other dataset loaders e.g. `load_wine`, `load_breast_cancer` and `load_linnerud`."
      ]
    },
    {
      "cell_type": "markdown",
      "metadata": {
        "id": "bQd2JPjyoPYA"
      },
      "source": [
        "### `load_wine`"
      ]
    },
    {
      "cell_type": "markdown",
      "metadata": {
        "id": "AjFhPOhJmWoV"
      },
      "source": [
        "**Step 1.** Import the loader."
      ]
    },
    {
      "cell_type": "code",
      "execution_count": 29,
      "metadata": {
        "id": "rYCMIz3jmUdK"
      },
      "outputs": [],
      "source": [
        "from sklearn.datasets import load_wine"
      ]
    },
    {
      "cell_type": "markdown",
      "metadata": {
        "id": "45bhGhH9mebV"
      },
      "source": [
        "**Step 1a.** In case, you want to know more about the loader, access its documentation by using `?<loader_name>' command."
      ]
    },
    {
      "cell_type": "code",
      "execution_count": 30,
      "metadata": {
        "id": "F1Ja3JOtmpoK"
      },
      "outputs": [],
      "source": [
        "?load_wine"
      ]
    },
    {
      "cell_type": "markdown",
      "metadata": {
        "id": "Ge6p4Q31muLZ"
      },
      "source": [
        "**Step 2.** Load the dataset and obtain a `Bunch` object."
      ]
    },
    {
      "cell_type": "code",
      "execution_count": 31,
      "metadata": {
        "id": "ypg3oLUrm9Ke"
      },
      "outputs": [],
      "source": [
        "data = load_wine()"
      ]
    },
    {
      "cell_type": "markdown",
      "metadata": {
        "id": "z_rUczEBnGEM"
      },
      "source": [
        "**Step 3.** Examine the bunch object."
      ]
    },
    {
      "cell_type": "markdown",
      "metadata": {
        "id": "NibIvMaPoVt8"
      },
      "source": [
        "Look at the description of the dataset."
      ]
    },
    {
      "cell_type": "code",
      "execution_count": 32,
      "metadata": {
        "colab": {
          "base_uri": "https://localhost:8080/",
          "height": 157
        },
        "id": "x9hqTqleoYAD",
        "outputId": "7975cd66-5c75-4cc7-e9d5-9eed35773d7e"
      },
      "outputs": [
        {
          "output_type": "execute_result",
          "data": {
            "text/plain": [
              "'.. _wine_dataset:\\n\\nWine recognition dataset\\n------------------------\\n\\n**Data Set Characteristics:**\\n\\n    :Number of Instances: 178\\n    :Number of Attributes: 13 numeric, predictive attributes and the class\\n    :Attribute Information:\\n \\t\\t- Alcohol\\n \\t\\t- Malic acid\\n \\t\\t- Ash\\n\\t\\t- Alcalinity of ash  \\n \\t\\t- Magnesium\\n\\t\\t- Total phenols\\n \\t\\t- Flavanoids\\n \\t\\t- Nonflavanoid phenols\\n \\t\\t- Proanthocyanins\\n\\t\\t- Color intensity\\n \\t\\t- Hue\\n \\t\\t- OD280/OD315 of diluted wines\\n \\t\\t- Proline\\n\\n    - class:\\n            - class_0\\n            - class_1\\n            - class_2\\n\\t\\t\\n    :Summary Statistics:\\n    \\n    ============================= ==== ===== ======= =====\\n                                   Min   Max   Mean     SD\\n    ============================= ==== ===== ======= =====\\n    Alcohol:                      11.0  14.8    13.0   0.8\\n    Malic Acid:                   0.74  5.80    2.34  1.12\\n    Ash:                          1.36  3.23    2.36  0.27\\n    Alcalinity of Ash:            10.6  30.0    19.5   3.3\\n    Magnesium:                    70.0 162.0    99.7  14.3\\n    Total Phenols:                0.98  3.88    2.29  0.63\\n    Flavanoids:                   0.34  5.08    2.03  1.00\\n    Nonflavanoid Phenols:         0.13  0.66    0.36  0.12\\n    Proanthocyanins:              0.41  3.58    1.59  0.57\\n    Colour Intensity:              1.3  13.0     5.1   2.3\\n    Hue:                          0.48  1.71    0.96  0.23\\n    OD280/OD315 of diluted wines: 1.27  4.00    2.61  0.71\\n    Proline:                       278  1680     746   315\\n    ============================= ==== ===== ======= =====\\n\\n    :Missing Attribute Values: None\\n    :Class Distribution: class_0 (59), class_1 (71), class_2 (48)\\n    :Creator: R.A. Fisher\\n    :Donor: Michael Marshall (MARSHALL%PLU@io.arc.nasa.gov)\\n    :Date: July, 1988\\n\\nThis is a copy of UCI ML Wine recognition datasets.\\nhttps://archive.ics.uci.edu/ml/machine-learning-databases/wine/wine.data\\n\\nThe data is the results of a chemical analysis of wines grown in the same\\nregion in Italy by three different cultivators. There are thirteen different\\nmeasurements taken for different constituents found in the three types of\\nwine.\\n\\nOriginal Owners: \\n\\nForina, M. et al, PARVUS - \\nAn Extendible Package for Data Exploration, Classification and Correlation. \\nInstitute of Pharmaceutical and Food Analysis and Technologies,\\nVia Brigata Salerno, 16147 Genoa, Italy.\\n\\nCitation:\\n\\nLichman, M. (2013). UCI Machine Learning Repository\\n[https://archive.ics.uci.edu/ml]. Irvine, CA: University of California,\\nSchool of Information and Computer Science. \\n\\n.. topic:: References\\n\\n  (1) S. Aeberhard, D. Coomans and O. de Vel, \\n  Comparison of Classifiers in High Dimensional Settings, \\n  Tech. Rep. no. 92-02, (1992), Dept. of Computer Science and Dept. of  \\n  Mathematics and Statistics, James Cook University of North Queensland. \\n  (Also submitted to Technometrics). \\n\\n  The data was used with many others for comparing various \\n  classifiers. The classes are separable, though only RDA \\n  has achieved 100% correct classification. \\n  (RDA : 100%, QDA 99.4%, LDA 98.9%, 1NN 96.1% (z-transformed data)) \\n  (All results using the leave-one-out technique) \\n\\n  (2) S. Aeberhard, D. Coomans and O. de Vel, \\n  \"THE CLASSIFICATION PERFORMANCE OF RDA\" \\n  Tech. Rep. no. 92-01, (1992), Dept. of Computer Science and Dept. of \\n  Mathematics and Statistics, James Cook University of North Queensland. \\n  (Also submitted to Journal of Chemometrics).\\n'"
            ],
            "application/vnd.google.colaboratory.intrinsic+json": {
              "type": "string"
            }
          },
          "metadata": {},
          "execution_count": 32
        }
      ],
      "source": [
        "data.DESCR"
      ]
    },
    {
      "cell_type": "markdown",
      "metadata": {
        "id": "-5uTOcgGnNSb"
      },
      "source": [
        "Find out the shape of the feature matrix."
      ]
    },
    {
      "cell_type": "code",
      "execution_count": 33,
      "metadata": {
        "colab": {
          "base_uri": "https://localhost:8080/"
        },
        "id": "KG7GsbgqnRQ7",
        "outputId": "05e7ae61-47f4-401d-a4be-d349bdb8b9ca"
      },
      "outputs": [
        {
          "output_type": "execute_result",
          "data": {
            "text/plain": [
              "(178, 13)"
            ]
          },
          "metadata": {},
          "execution_count": 33
        }
      ],
      "source": [
        "data.data.shape"
      ]
    },
    {
      "cell_type": "markdown",
      "metadata": {
        "id": "lHjlBH9pnu1g"
      },
      "source": [
        "Look at the first five examples from the feature matrix."
      ]
    },
    {
      "cell_type": "code",
      "execution_count": 34,
      "metadata": {
        "colab": {
          "base_uri": "https://localhost:8080/"
        },
        "id": "yaAmf8tgnySL",
        "outputId": "d3da1e19-f765-4aba-9576-edcda6b9c83b"
      },
      "outputs": [
        {
          "output_type": "execute_result",
          "data": {
            "text/plain": [
              "array([[1.423e+01, 1.710e+00, 2.430e+00, 1.560e+01, 1.270e+02, 2.800e+00,\n",
              "        3.060e+00, 2.800e-01, 2.290e+00, 5.640e+00, 1.040e+00, 3.920e+00,\n",
              "        1.065e+03],\n",
              "       [1.320e+01, 1.780e+00, 2.140e+00, 1.120e+01, 1.000e+02, 2.650e+00,\n",
              "        2.760e+00, 2.600e-01, 1.280e+00, 4.380e+00, 1.050e+00, 3.400e+00,\n",
              "        1.050e+03],\n",
              "       [1.316e+01, 2.360e+00, 2.670e+00, 1.860e+01, 1.010e+02, 2.800e+00,\n",
              "        3.240e+00, 3.000e-01, 2.810e+00, 5.680e+00, 1.030e+00, 3.170e+00,\n",
              "        1.185e+03],\n",
              "       [1.437e+01, 1.950e+00, 2.500e+00, 1.680e+01, 1.130e+02, 3.850e+00,\n",
              "        3.490e+00, 2.400e-01, 2.180e+00, 7.800e+00, 8.600e-01, 3.450e+00,\n",
              "        1.480e+03],\n",
              "       [1.324e+01, 2.590e+00, 2.870e+00, 2.100e+01, 1.180e+02, 2.800e+00,\n",
              "        2.690e+00, 3.900e-01, 1.820e+00, 4.320e+00, 1.040e+00, 2.930e+00,\n",
              "        7.350e+02]])"
            ]
          },
          "metadata": {},
          "execution_count": 34
        }
      ],
      "source": [
        "data.data[:5]"
      ]
    },
    {
      "cell_type": "markdown",
      "metadata": {
        "id": "4jRiqTDTnXX2"
      },
      "source": [
        "Find out the shape of the label matrix."
      ]
    },
    {
      "cell_type": "code",
      "execution_count": 35,
      "metadata": {
        "colab": {
          "base_uri": "https://localhost:8080/"
        },
        "id": "qdnJezyuncGL",
        "outputId": "0316466a-df5b-4d20-eeed-084eb0ef8f5b"
      },
      "outputs": [
        {
          "output_type": "execute_result",
          "data": {
            "text/plain": [
              "(178,)"
            ]
          },
          "metadata": {},
          "execution_count": 35
        }
      ],
      "source": [
        "data.target.shape"
      ]
    },
    {
      "cell_type": "markdown",
      "metadata": {
        "id": "o8qxk_kkn2P7"
      },
      "source": [
        "Look at the labels of the first five examples."
      ]
    },
    {
      "cell_type": "code",
      "execution_count": 36,
      "metadata": {
        "colab": {
          "base_uri": "https://localhost:8080/"
        },
        "id": "oDw0-5PTn6Zc",
        "outputId": "28e33b28-7ec4-4c3e-b258-f9f5506ae6d2"
      },
      "outputs": [
        {
          "output_type": "execute_result",
          "data": {
            "text/plain": [
              "array([0, 0, 0, 0, 0])"
            ]
          },
          "metadata": {},
          "execution_count": 36
        }
      ],
      "source": [
        "data.target[:5]"
      ]
    },
    {
      "cell_type": "markdown",
      "metadata": {
        "id": "l8HAxlPgnfYT"
      },
      "source": [
        "Find out the names of the features."
      ]
    },
    {
      "cell_type": "code",
      "execution_count": 37,
      "metadata": {
        "colab": {
          "base_uri": "https://localhost:8080/"
        },
        "id": "3v8gX10Knh87",
        "outputId": "708dc713-0981-4699-a1c3-023879b7c86a"
      },
      "outputs": [
        {
          "output_type": "execute_result",
          "data": {
            "text/plain": [
              "['alcohol',\n",
              " 'malic_acid',\n",
              " 'ash',\n",
              " 'alcalinity_of_ash',\n",
              " 'magnesium',\n",
              " 'total_phenols',\n",
              " 'flavanoids',\n",
              " 'nonflavanoid_phenols',\n",
              " 'proanthocyanins',\n",
              " 'color_intensity',\n",
              " 'hue',\n",
              " 'od280/od315_of_diluted_wines',\n",
              " 'proline']"
            ]
          },
          "metadata": {},
          "execution_count": 37
        }
      ],
      "source": [
        "data.feature_names"
      ]
    },
    {
      "cell_type": "markdown",
      "metadata": {
        "id": "2hwCofIunluj"
      },
      "source": [
        "Find names of class labels."
      ]
    },
    {
      "cell_type": "code",
      "execution_count": 38,
      "metadata": {
        "colab": {
          "base_uri": "https://localhost:8080/"
        },
        "id": "ytZaqKnynqhT",
        "outputId": "d3ca51cd-4904-4e5e-ba5c-4818d1608ad2"
      },
      "outputs": [
        {
          "output_type": "execute_result",
          "data": {
            "text/plain": [
              "array(['class_0', 'class_1', 'class_2'], dtype='<U7')"
            ]
          },
          "metadata": {},
          "execution_count": 38
        }
      ],
      "source": [
        "data.target_names"
      ]
    },
    {
      "cell_type": "markdown",
      "metadata": {
        "id": "Z__t2RLEocmc"
      },
      "source": [
        "### `load_breast_cancer`"
      ]
    },
    {
      "cell_type": "markdown",
      "metadata": {
        "id": "0Ir2IoYfocmc"
      },
      "source": [
        "**Step 1.** Import the loader."
      ]
    },
    {
      "cell_type": "code",
      "execution_count": 39,
      "metadata": {
        "id": "1jSARrg1ocmc"
      },
      "outputs": [],
      "source": [
        "from sklearn.datasets import load_breast_cancer\n",
        "breast_cancer_dataset = load_breast_cancer()"
      ]
    },
    {
      "cell_type": "markdown",
      "metadata": {
        "id": "7ZYVIIqdocmd"
      },
      "source": [
        "**Step 1a.** In case, you want to know more about the loader, access its documentation by using `?<loader_name>' command."
      ]
    },
    {
      "cell_type": "code",
      "execution_count": 40,
      "metadata": {
        "id": "WHyyxvKUocmd"
      },
      "outputs": [],
      "source": [
        "?load_breast_cancer"
      ]
    },
    {
      "cell_type": "markdown",
      "metadata": {
        "id": "qvaXZUvfocmd"
      },
      "source": [
        "**Step 2.** Load the dataset and obtain a `Bunch` object."
      ]
    },
    {
      "cell_type": "code",
      "execution_count": 41,
      "metadata": {
        "id": "wvbHbgdCocmd",
        "outputId": "45588eac-5e12-49eb-9fc3-87cb677377cc",
        "colab": {
          "base_uri": "https://localhost:8080/"
        }
      },
      "outputs": [
        {
          "output_type": "execute_result",
          "data": {
            "text/plain": [
              "sklearn.utils._bunch.Bunch"
            ]
          },
          "metadata": {},
          "execution_count": 41
        }
      ],
      "source": [
        "type(breast_cancer_dataset)"
      ]
    },
    {
      "cell_type": "markdown",
      "metadata": {
        "id": "Ra51vhfmocmd"
      },
      "source": [
        "**Step 3.** Examine the bunch object."
      ]
    },
    {
      "cell_type": "markdown",
      "metadata": {
        "id": "1Fg_Qlziocme"
      },
      "source": [
        "Look at the description of the dataset."
      ]
    },
    {
      "cell_type": "code",
      "execution_count": 42,
      "metadata": {
        "id": "eaK4WHrEocme",
        "outputId": "ae847bc5-c6d3-478a-d00f-5cf4fc5f46d9",
        "colab": {
          "base_uri": "https://localhost:8080/",
          "height": 157
        }
      },
      "outputs": [
        {
          "output_type": "execute_result",
          "data": {
            "text/plain": [
              "'.. _breast_cancer_dataset:\\n\\nBreast cancer wisconsin (diagnostic) dataset\\n--------------------------------------------\\n\\n**Data Set Characteristics:**\\n\\n    :Number of Instances: 569\\n\\n    :Number of Attributes: 30 numeric, predictive attributes and the class\\n\\n    :Attribute Information:\\n        - radius (mean of distances from center to points on the perimeter)\\n        - texture (standard deviation of gray-scale values)\\n        - perimeter\\n        - area\\n        - smoothness (local variation in radius lengths)\\n        - compactness (perimeter^2 / area - 1.0)\\n        - concavity (severity of concave portions of the contour)\\n        - concave points (number of concave portions of the contour)\\n        - symmetry\\n        - fractal dimension (\"coastline approximation\" - 1)\\n\\n        The mean, standard error, and \"worst\" or largest (mean of the three\\n        worst/largest values) of these features were computed for each image,\\n        resulting in 30 features.  For instance, field 0 is Mean Radius, field\\n        10 is Radius SE, field 20 is Worst Radius.\\n\\n        - class:\\n                - WDBC-Malignant\\n                - WDBC-Benign\\n\\n    :Summary Statistics:\\n\\n    ===================================== ====== ======\\n                                           Min    Max\\n    ===================================== ====== ======\\n    radius (mean):                        6.981  28.11\\n    texture (mean):                       9.71   39.28\\n    perimeter (mean):                     43.79  188.5\\n    area (mean):                          143.5  2501.0\\n    smoothness (mean):                    0.053  0.163\\n    compactness (mean):                   0.019  0.345\\n    concavity (mean):                     0.0    0.427\\n    concave points (mean):                0.0    0.201\\n    symmetry (mean):                      0.106  0.304\\n    fractal dimension (mean):             0.05   0.097\\n    radius (standard error):              0.112  2.873\\n    texture (standard error):             0.36   4.885\\n    perimeter (standard error):           0.757  21.98\\n    area (standard error):                6.802  542.2\\n    smoothness (standard error):          0.002  0.031\\n    compactness (standard error):         0.002  0.135\\n    concavity (standard error):           0.0    0.396\\n    concave points (standard error):      0.0    0.053\\n    symmetry (standard error):            0.008  0.079\\n    fractal dimension (standard error):   0.001  0.03\\n    radius (worst):                       7.93   36.04\\n    texture (worst):                      12.02  49.54\\n    perimeter (worst):                    50.41  251.2\\n    area (worst):                         185.2  4254.0\\n    smoothness (worst):                   0.071  0.223\\n    compactness (worst):                  0.027  1.058\\n    concavity (worst):                    0.0    1.252\\n    concave points (worst):               0.0    0.291\\n    symmetry (worst):                     0.156  0.664\\n    fractal dimension (worst):            0.055  0.208\\n    ===================================== ====== ======\\n\\n    :Missing Attribute Values: None\\n\\n    :Class Distribution: 212 - Malignant, 357 - Benign\\n\\n    :Creator:  Dr. William H. Wolberg, W. Nick Street, Olvi L. Mangasarian\\n\\n    :Donor: Nick Street\\n\\n    :Date: November, 1995\\n\\nThis is a copy of UCI ML Breast Cancer Wisconsin (Diagnostic) datasets.\\nhttps://goo.gl/U2Uwz2\\n\\nFeatures are computed from a digitized image of a fine needle\\naspirate (FNA) of a breast mass.  They describe\\ncharacteristics of the cell nuclei present in the image.\\n\\nSeparating plane described above was obtained using\\nMultisurface Method-Tree (MSM-T) [K. P. Bennett, \"Decision Tree\\nConstruction Via Linear Programming.\" Proceedings of the 4th\\nMidwest Artificial Intelligence and Cognitive Science Society,\\npp. 97-101, 1992], a classification method which uses linear\\nprogramming to construct a decision tree.  Relevant features\\nwere selected using an exhaustive search in the space of 1-4\\nfeatures and 1-3 separating planes.\\n\\nThe actual linear program used to obtain the separating plane\\nin the 3-dimensional space is that described in:\\n[K. P. Bennett and O. L. Mangasarian: \"Robust Linear\\nProgramming Discrimination of Two Linearly Inseparable Sets\",\\nOptimization Methods and Software 1, 1992, 23-34].\\n\\nThis database is also available through the UW CS ftp server:\\n\\nftp ftp.cs.wisc.edu\\ncd math-prog/cpo-dataset/machine-learn/WDBC/\\n\\n.. topic:: References\\n\\n   - W.N. Street, W.H. Wolberg and O.L. Mangasarian. Nuclear feature extraction \\n     for breast tumor diagnosis. IS&T/SPIE 1993 International Symposium on \\n     Electronic Imaging: Science and Technology, volume 1905, pages 861-870,\\n     San Jose, CA, 1993.\\n   - O.L. Mangasarian, W.N. Street and W.H. Wolberg. Breast cancer diagnosis and \\n     prognosis via linear programming. Operations Research, 43(4), pages 570-577, \\n     July-August 1995.\\n   - W.H. Wolberg, W.N. Street, and O.L. Mangasarian. Machine learning techniques\\n     to diagnose breast cancer from fine-needle aspirates. Cancer Letters 77 (1994) \\n     163-171.'"
            ],
            "application/vnd.google.colaboratory.intrinsic+json": {
              "type": "string"
            }
          },
          "metadata": {},
          "execution_count": 42
        }
      ],
      "source": [
        "breast_cancer_dataset.DESCR"
      ]
    },
    {
      "cell_type": "markdown",
      "metadata": {
        "id": "P1MxEwayocme"
      },
      "source": [
        "Find out the shape of the feature matrix."
      ]
    },
    {
      "cell_type": "code",
      "execution_count": 43,
      "metadata": {
        "id": "XUMfUltMocme",
        "outputId": "288d3d3c-d73a-4192-9d0e-a1e7e8b052f4",
        "colab": {
          "base_uri": "https://localhost:8080/"
        }
      },
      "outputs": [
        {
          "output_type": "execute_result",
          "data": {
            "text/plain": [
              "(569, 30)"
            ]
          },
          "metadata": {},
          "execution_count": 43
        }
      ],
      "source": [
        "feature_matrix = breast_cancer_dataset.data\n",
        "feature_matrix.shape"
      ]
    },
    {
      "cell_type": "markdown",
      "metadata": {
        "id": "0DbZTtdXocme"
      },
      "source": [
        "Look at the first five examples from the feature matrix."
      ]
    },
    {
      "cell_type": "code",
      "execution_count": 44,
      "metadata": {
        "id": "jXOWajy3ocmf",
        "outputId": "7a9e4232-516b-4fee-888f-fb5cd7bf9993",
        "colab": {
          "base_uri": "https://localhost:8080/"
        }
      },
      "outputs": [
        {
          "output_type": "execute_result",
          "data": {
            "text/plain": [
              "array([[1.799e+01, 1.038e+01, 1.228e+02, 1.001e+03, 1.184e-01, 2.776e-01,\n",
              "        3.001e-01, 1.471e-01, 2.419e-01, 7.871e-02, 1.095e+00, 9.053e-01,\n",
              "        8.589e+00, 1.534e+02, 6.399e-03, 4.904e-02, 5.373e-02, 1.587e-02,\n",
              "        3.003e-02, 6.193e-03, 2.538e+01, 1.733e+01, 1.846e+02, 2.019e+03,\n",
              "        1.622e-01, 6.656e-01, 7.119e-01, 2.654e-01, 4.601e-01, 1.189e-01],\n",
              "       [2.057e+01, 1.777e+01, 1.329e+02, 1.326e+03, 8.474e-02, 7.864e-02,\n",
              "        8.690e-02, 7.017e-02, 1.812e-01, 5.667e-02, 5.435e-01, 7.339e-01,\n",
              "        3.398e+00, 7.408e+01, 5.225e-03, 1.308e-02, 1.860e-02, 1.340e-02,\n",
              "        1.389e-02, 3.532e-03, 2.499e+01, 2.341e+01, 1.588e+02, 1.956e+03,\n",
              "        1.238e-01, 1.866e-01, 2.416e-01, 1.860e-01, 2.750e-01, 8.902e-02],\n",
              "       [1.969e+01, 2.125e+01, 1.300e+02, 1.203e+03, 1.096e-01, 1.599e-01,\n",
              "        1.974e-01, 1.279e-01, 2.069e-01, 5.999e-02, 7.456e-01, 7.869e-01,\n",
              "        4.585e+00, 9.403e+01, 6.150e-03, 4.006e-02, 3.832e-02, 2.058e-02,\n",
              "        2.250e-02, 4.571e-03, 2.357e+01, 2.553e+01, 1.525e+02, 1.709e+03,\n",
              "        1.444e-01, 4.245e-01, 4.504e-01, 2.430e-01, 3.613e-01, 8.758e-02],\n",
              "       [1.142e+01, 2.038e+01, 7.758e+01, 3.861e+02, 1.425e-01, 2.839e-01,\n",
              "        2.414e-01, 1.052e-01, 2.597e-01, 9.744e-02, 4.956e-01, 1.156e+00,\n",
              "        3.445e+00, 2.723e+01, 9.110e-03, 7.458e-02, 5.661e-02, 1.867e-02,\n",
              "        5.963e-02, 9.208e-03, 1.491e+01, 2.650e+01, 9.887e+01, 5.677e+02,\n",
              "        2.098e-01, 8.663e-01, 6.869e-01, 2.575e-01, 6.638e-01, 1.730e-01],\n",
              "       [2.029e+01, 1.434e+01, 1.351e+02, 1.297e+03, 1.003e-01, 1.328e-01,\n",
              "        1.980e-01, 1.043e-01, 1.809e-01, 5.883e-02, 7.572e-01, 7.813e-01,\n",
              "        5.438e+00, 9.444e+01, 1.149e-02, 2.461e-02, 5.688e-02, 1.885e-02,\n",
              "        1.756e-02, 5.115e-03, 2.254e+01, 1.667e+01, 1.522e+02, 1.575e+03,\n",
              "        1.374e-01, 2.050e-01, 4.000e-01, 1.625e-01, 2.364e-01, 7.678e-02]])"
            ]
          },
          "metadata": {},
          "execution_count": 44
        }
      ],
      "source": [
        "feature_matrix[:5]"
      ]
    },
    {
      "cell_type": "markdown",
      "metadata": {
        "id": "3EtynaMfocmf"
      },
      "source": [
        "Find out the shape of the label matrix."
      ]
    },
    {
      "cell_type": "code",
      "execution_count": 45,
      "metadata": {
        "id": "eFjyDtFaocmf",
        "outputId": "4cb07050-f589-4ff6-d63b-202da45bd078",
        "colab": {
          "base_uri": "https://localhost:8080/"
        }
      },
      "outputs": [
        {
          "output_type": "execute_result",
          "data": {
            "text/plain": [
              "(569,)"
            ]
          },
          "metadata": {},
          "execution_count": 45
        }
      ],
      "source": [
        "label_matrix = breast_cancer_dataset.target\n",
        "label_matrix.shape"
      ]
    },
    {
      "cell_type": "markdown",
      "metadata": {
        "id": "t63ZIHVJocmf"
      },
      "source": [
        "Look at the labels of the first five examples."
      ]
    },
    {
      "cell_type": "code",
      "execution_count": 46,
      "metadata": {
        "id": "dcuFTVw0ocmf",
        "outputId": "fa10f7be-6f02-49fa-f5e0-e537e0f1b09d",
        "colab": {
          "base_uri": "https://localhost:8080/"
        }
      },
      "outputs": [
        {
          "output_type": "execute_result",
          "data": {
            "text/plain": [
              "array([0, 0, 0, 0, 0])"
            ]
          },
          "metadata": {},
          "execution_count": 46
        }
      ],
      "source": [
        "label_matrix[:5]"
      ]
    },
    {
      "cell_type": "markdown",
      "metadata": {
        "id": "NRNqY7yyocmg"
      },
      "source": [
        "Find out the names of the features."
      ]
    },
    {
      "cell_type": "code",
      "execution_count": 47,
      "metadata": {
        "id": "rbu5_2GWocmg",
        "outputId": "a00364cf-4654-426d-d1ca-15f4e197580f",
        "colab": {
          "base_uri": "https://localhost:8080/"
        }
      },
      "outputs": [
        {
          "output_type": "execute_result",
          "data": {
            "text/plain": [
              "array(['mean radius', 'mean texture', 'mean perimeter', 'mean area',\n",
              "       'mean smoothness', 'mean compactness', 'mean concavity',\n",
              "       'mean concave points', 'mean symmetry', 'mean fractal dimension',\n",
              "       'radius error', 'texture error', 'perimeter error', 'area error',\n",
              "       'smoothness error', 'compactness error', 'concavity error',\n",
              "       'concave points error', 'symmetry error',\n",
              "       'fractal dimension error', 'worst radius', 'worst texture',\n",
              "       'worst perimeter', 'worst area', 'worst smoothness',\n",
              "       'worst compactness', 'worst concavity', 'worst concave points',\n",
              "       'worst symmetry', 'worst fractal dimension'], dtype='<U23')"
            ]
          },
          "metadata": {},
          "execution_count": 47
        }
      ],
      "source": [
        "breast_cancer_dataset.feature_names"
      ]
    },
    {
      "cell_type": "markdown",
      "metadata": {
        "id": "jejtPi7iocmg"
      },
      "source": [
        "Find names of class labels."
      ]
    },
    {
      "cell_type": "code",
      "execution_count": 48,
      "metadata": {
        "id": "fBJaGZDBocmg",
        "outputId": "072b4dce-41a6-4ba7-9c4b-a51606a676e0",
        "colab": {
          "base_uri": "https://localhost:8080/"
        }
      },
      "outputs": [
        {
          "output_type": "execute_result",
          "data": {
            "text/plain": [
              "array(['malignant', 'benign'], dtype='<U9')"
            ]
          },
          "metadata": {},
          "execution_count": 48
        }
      ],
      "source": [
        "breast_cancer_dataset.target_names"
      ]
    },
    {
      "cell_type": "markdown",
      "metadata": {
        "id": "Y7qGuJjcoeND"
      },
      "source": [
        "### `load_linnerud`"
      ]
    },
    {
      "cell_type": "markdown",
      "metadata": {
        "id": "Bd_9RoVBoeND"
      },
      "source": [
        "**Step 1.** Import the loader."
      ]
    },
    {
      "cell_type": "code",
      "execution_count": 49,
      "metadata": {
        "id": "GcjGs78KoeNE"
      },
      "outputs": [],
      "source": [
        "from sklearn.datasets import load_linnerud\n",
        "linnerud_dataset = load_linnerud()"
      ]
    },
    {
      "cell_type": "markdown",
      "metadata": {
        "id": "EGysTcyuoeNE"
      },
      "source": [
        "**Step 1a.** In case, you want to know more about the loader, access its documentation by using `?<loader_name>' command."
      ]
    },
    {
      "cell_type": "code",
      "execution_count": 50,
      "metadata": {
        "id": "02AfJocVoeNE"
      },
      "outputs": [],
      "source": [
        "?load_linnerud"
      ]
    },
    {
      "cell_type": "markdown",
      "metadata": {
        "id": "GxTe7dQ5oeNE"
      },
      "source": [
        "**Step 2.** Load the dataset and obtain a `Bunch` object."
      ]
    },
    {
      "cell_type": "code",
      "execution_count": 51,
      "metadata": {
        "id": "M9Shy3P2oeNE",
        "outputId": "b75f9ddf-5f37-4f4d-93ea-d09e748ef0da",
        "colab": {
          "base_uri": "https://localhost:8080/"
        }
      },
      "outputs": [
        {
          "output_type": "execute_result",
          "data": {
            "text/plain": [
              "sklearn.utils._bunch.Bunch"
            ]
          },
          "metadata": {},
          "execution_count": 51
        }
      ],
      "source": [
        "type(linnerud_dataset)"
      ]
    },
    {
      "cell_type": "markdown",
      "metadata": {
        "id": "xQyOxG42oeNF"
      },
      "source": [
        "**Step 3.** Examine the bunch object."
      ]
    },
    {
      "cell_type": "markdown",
      "metadata": {
        "id": "7tHewxI9oeNF"
      },
      "source": [
        "Look at the description of the dataset."
      ]
    },
    {
      "cell_type": "code",
      "execution_count": 52,
      "metadata": {
        "id": "AGPE58VboeNF",
        "outputId": "d4d2b0a7-1fa5-43f4-e9f7-d07aa6262b1c",
        "colab": {
          "base_uri": "https://localhost:8080/",
          "height": 122
        }
      },
      "outputs": [
        {
          "output_type": "execute_result",
          "data": {
            "text/plain": [
              "'.. _linnerrud_dataset:\\n\\nLinnerrud dataset\\n-----------------\\n\\n**Data Set Characteristics:**\\n\\n    :Number of Instances: 20\\n    :Number of Attributes: 3\\n    :Missing Attribute Values: None\\n\\nThe Linnerud dataset is a multi-output regression dataset. It consists of three\\nexercise (data) and three physiological (target) variables collected from\\ntwenty middle-aged men in a fitness club:\\n\\n- *physiological* - CSV containing 20 observations on 3 physiological variables:\\n   Weight, Waist and Pulse.\\n- *exercise* - CSV containing 20 observations on 3 exercise variables:\\n   Chins, Situps and Jumps.\\n\\n.. topic:: References\\n\\n  * Tenenhaus, M. (1998). La regression PLS: theorie et pratique. Paris:\\n    Editions Technic.\\n'"
            ],
            "application/vnd.google.colaboratory.intrinsic+json": {
              "type": "string"
            }
          },
          "metadata": {},
          "execution_count": 52
        }
      ],
      "source": [
        "linnerud_dataset.DESCR"
      ]
    },
    {
      "cell_type": "markdown",
      "metadata": {
        "id": "ZkpOlILMoeNF"
      },
      "source": [
        "Find out the shape of the feature matrix."
      ]
    },
    {
      "cell_type": "code",
      "execution_count": 53,
      "metadata": {
        "id": "dBPOWxkAoeNF"
      },
      "outputs": [],
      "source": [
        "feature_matrix = linnerud_dataset.data"
      ]
    },
    {
      "cell_type": "markdown",
      "metadata": {
        "id": "0dNHA-XMoeNF"
      },
      "source": [
        "Look at the first five examples from the feature matrix."
      ]
    },
    {
      "cell_type": "code",
      "execution_count": 54,
      "metadata": {
        "id": "S3MWmsjRoeNG",
        "outputId": "c2cd9439-9718-47ae-fbfb-23484a1d5c3b",
        "colab": {
          "base_uri": "https://localhost:8080/"
        }
      },
      "outputs": [
        {
          "output_type": "execute_result",
          "data": {
            "text/plain": [
              "array([[  5., 162.,  60.],\n",
              "       [  2., 110.,  60.],\n",
              "       [ 12., 101., 101.],\n",
              "       [ 12., 105.,  37.],\n",
              "       [ 13., 155.,  58.]])"
            ]
          },
          "metadata": {},
          "execution_count": 54
        }
      ],
      "source": [
        "feature_matrix[:5]"
      ]
    },
    {
      "cell_type": "markdown",
      "metadata": {
        "id": "gFu0EfyMoeNG"
      },
      "source": [
        "Find out the shape of the label matrix."
      ]
    },
    {
      "cell_type": "code",
      "execution_count": 55,
      "metadata": {
        "id": "QwhkG2RSoeNG",
        "outputId": "8809f3b4-c16f-4ac7-c1c6-55652bb77176",
        "colab": {
          "base_uri": "https://localhost:8080/"
        }
      },
      "outputs": [
        {
          "output_type": "execute_result",
          "data": {
            "text/plain": [
              "(20, 3)"
            ]
          },
          "metadata": {},
          "execution_count": 55
        }
      ],
      "source": [
        "feature_matrix.shape"
      ]
    },
    {
      "cell_type": "markdown",
      "metadata": {
        "id": "PZ7IyaV5oeNG"
      },
      "source": [
        "Look at the labels of the first five examples."
      ]
    },
    {
      "cell_type": "code",
      "execution_count": 56,
      "metadata": {
        "id": "6HIqZKH4oeNG"
      },
      "outputs": [],
      "source": [
        "label_matrix = linnerud_dataset.target"
      ]
    },
    {
      "cell_type": "markdown",
      "metadata": {
        "id": "6iaKV8f9oeNG"
      },
      "source": [
        "Find out the names of the features."
      ]
    },
    {
      "cell_type": "code",
      "execution_count": 57,
      "metadata": {
        "id": "b_6hLoL4oeNH",
        "outputId": "b390e52f-ae86-4dd1-e83b-7ebebed3b507",
        "colab": {
          "base_uri": "https://localhost:8080/"
        }
      },
      "outputs": [
        {
          "output_type": "execute_result",
          "data": {
            "text/plain": [
              "['Chins', 'Situps', 'Jumps']"
            ]
          },
          "metadata": {},
          "execution_count": 57
        }
      ],
      "source": [
        "linnerud_dataset.feature_names"
      ]
    },
    {
      "cell_type": "markdown",
      "metadata": {
        "id": "hFVTPks-oeNH"
      },
      "source": [
        "Find names of class labels."
      ]
    },
    {
      "cell_type": "code",
      "execution_count": 58,
      "metadata": {
        "id": "WnF7HZN1oeNH",
        "outputId": "a140eb4b-3240-4f79-c6e6-5a1667554ff3",
        "colab": {
          "base_uri": "https://localhost:8080/"
        }
      },
      "outputs": [
        {
          "output_type": "execute_result",
          "data": {
            "text/plain": [
              "['Weight', 'Waist', 'Pulse']"
            ]
          },
          "metadata": {},
          "execution_count": 58
        }
      ],
      "source": [
        "linnerud_dataset.target_names"
      ]
    },
    {
      "cell_type": "markdown",
      "metadata": {
        "id": "I81oLrXrqbTZ"
      },
      "source": [
        "# Fetchers"
      ]
    },
    {
      "cell_type": "markdown",
      "metadata": {
        "id": "CND7NmTZrf27"
      },
      "source": [
        "## `fetch_california_housing`"
      ]
    },
    {
      "cell_type": "markdown",
      "metadata": {
        "id": "JOGB_KvuseXj"
      },
      "source": [
        "**Step 1**: Import the library and access the documentation."
      ]
    },
    {
      "cell_type": "code",
      "execution_count": 59,
      "metadata": {
        "id": "iOxB9gydrjHS"
      },
      "outputs": [],
      "source": [
        "from sklearn.datasets import fetch_california_housing\n",
        "?fetch_california_housing"
      ]
    },
    {
      "cell_type": "markdown",
      "metadata": {
        "id": "5PXp5NYmryOq"
      },
      "source": [
        "Note that the `fetch_`* also returns a `Bunch` object just like loaders."
      ]
    },
    {
      "cell_type": "markdown",
      "metadata": {
        "id": "CewHRJkHsKni"
      },
      "source": [
        "We can examine various attributes of this dataset on the lines of datasets in loaders."
      ]
    },
    {
      "cell_type": "markdown",
      "metadata": {
        "id": "pENdcsQxsYgo"
      },
      "source": [
        "**Step 2.** Load the dataset and obtain a `Bunch` object."
      ]
    },
    {
      "cell_type": "code",
      "execution_count": 60,
      "metadata": {
        "id": "u937HqyDsYgo"
      },
      "outputs": [],
      "source": [
        "housing_data = fetch_california_housing()"
      ]
    },
    {
      "cell_type": "markdown",
      "metadata": {
        "id": "-MSRe343sYgp"
      },
      "source": [
        "**Step 3.** Examine the bunch object."
      ]
    },
    {
      "cell_type": "markdown",
      "metadata": {
        "id": "JqNnOu6LsYgp"
      },
      "source": [
        "Look at the description of the dataset."
      ]
    },
    {
      "cell_type": "code",
      "execution_count": 61,
      "metadata": {
        "colab": {
          "base_uri": "https://localhost:8080/",
          "height": 157
        },
        "id": "Xm32qSqYsYgp",
        "outputId": "2609723b-6ddb-4a44-c746-3957d62a89a0"
      },
      "outputs": [
        {
          "output_type": "execute_result",
          "data": {
            "text/plain": [
              "'.. _california_housing_dataset:\\n\\nCalifornia Housing dataset\\n--------------------------\\n\\n**Data Set Characteristics:**\\n\\n    :Number of Instances: 20640\\n\\n    :Number of Attributes: 8 numeric, predictive attributes and the target\\n\\n    :Attribute Information:\\n        - MedInc        median income in block group\\n        - HouseAge      median house age in block group\\n        - AveRooms      average number of rooms per household\\n        - AveBedrms     average number of bedrooms per household\\n        - Population    block group population\\n        - AveOccup      average number of household members\\n        - Latitude      block group latitude\\n        - Longitude     block group longitude\\n\\n    :Missing Attribute Values: None\\n\\nThis dataset was obtained from the StatLib repository.\\nhttps://www.dcc.fc.up.pt/~ltorgo/Regression/cal_housing.html\\n\\nThe target variable is the median house value for California districts,\\nexpressed in hundreds of thousands of dollars ($100,000).\\n\\nThis dataset was derived from the 1990 U.S. census, using one row per census\\nblock group. A block group is the smallest geographical unit for which the U.S.\\nCensus Bureau publishes sample data (a block group typically has a population\\nof 600 to 3,000 people).\\n\\nA household is a group of people residing within a home. Since the average\\nnumber of rooms and bedrooms in this dataset are provided per household, these\\ncolumns may take surprisingly large values for block groups with few households\\nand many empty houses, such as vacation resorts.\\n\\nIt can be downloaded/loaded using the\\n:func:`sklearn.datasets.fetch_california_housing` function.\\n\\n.. topic:: References\\n\\n    - Pace, R. Kelley and Ronald Barry, Sparse Spatial Autoregressions,\\n      Statistics and Probability Letters, 33 (1997) 291-297\\n'"
            ],
            "application/vnd.google.colaboratory.intrinsic+json": {
              "type": "string"
            }
          },
          "metadata": {},
          "execution_count": 61
        }
      ],
      "source": [
        "housing_data.DESCR"
      ]
    },
    {
      "cell_type": "markdown",
      "metadata": {
        "id": "mChKsmLmsYgp"
      },
      "source": [
        "Find out the shape of the feature matrix."
      ]
    },
    {
      "cell_type": "code",
      "execution_count": 62,
      "metadata": {
        "colab": {
          "base_uri": "https://localhost:8080/"
        },
        "id": "Pwu9eU0msYgp",
        "outputId": "78043940-5a65-4e39-a064-a849cde8a0ca"
      },
      "outputs": [
        {
          "output_type": "execute_result",
          "data": {
            "text/plain": [
              "(20640, 8)"
            ]
          },
          "metadata": {},
          "execution_count": 62
        }
      ],
      "source": [
        "housing_data.data.shape"
      ]
    },
    {
      "cell_type": "markdown",
      "metadata": {
        "id": "gnYHOjAQsYgp"
      },
      "source": [
        "Look at the first five examples from the feature matrix."
      ]
    },
    {
      "cell_type": "code",
      "execution_count": 63,
      "metadata": {
        "colab": {
          "base_uri": "https://localhost:8080/"
        },
        "id": "RggbI7ewsYgp",
        "outputId": "e577cfe6-8e49-48e1-8f04-f9507a39c99a"
      },
      "outputs": [
        {
          "output_type": "execute_result",
          "data": {
            "text/plain": [
              "array([[ 8.32520000e+00,  4.10000000e+01,  6.98412698e+00,\n",
              "         1.02380952e+00,  3.22000000e+02,  2.55555556e+00,\n",
              "         3.78800000e+01, -1.22230000e+02],\n",
              "       [ 8.30140000e+00,  2.10000000e+01,  6.23813708e+00,\n",
              "         9.71880492e-01,  2.40100000e+03,  2.10984183e+00,\n",
              "         3.78600000e+01, -1.22220000e+02],\n",
              "       [ 7.25740000e+00,  5.20000000e+01,  8.28813559e+00,\n",
              "         1.07344633e+00,  4.96000000e+02,  2.80225989e+00,\n",
              "         3.78500000e+01, -1.22240000e+02],\n",
              "       [ 5.64310000e+00,  5.20000000e+01,  5.81735160e+00,\n",
              "         1.07305936e+00,  5.58000000e+02,  2.54794521e+00,\n",
              "         3.78500000e+01, -1.22250000e+02],\n",
              "       [ 3.84620000e+00,  5.20000000e+01,  6.28185328e+00,\n",
              "         1.08108108e+00,  5.65000000e+02,  2.18146718e+00,\n",
              "         3.78500000e+01, -1.22250000e+02]])"
            ]
          },
          "metadata": {},
          "execution_count": 63
        }
      ],
      "source": [
        "housing_data.data[:5]"
      ]
    },
    {
      "cell_type": "markdown",
      "metadata": {
        "id": "tLuU15qGsYgq"
      },
      "source": [
        "Find out the shape of the label matrix."
      ]
    },
    {
      "cell_type": "code",
      "execution_count": 64,
      "metadata": {
        "colab": {
          "base_uri": "https://localhost:8080/"
        },
        "id": "lMNeni_esYgq",
        "outputId": "4c70b82d-5d7f-446b-d315-b09b0e0e5260"
      },
      "outputs": [
        {
          "output_type": "execute_result",
          "data": {
            "text/plain": [
              "(20640,)"
            ]
          },
          "metadata": {},
          "execution_count": 64
        }
      ],
      "source": [
        "housing_data.target.shape"
      ]
    },
    {
      "cell_type": "markdown",
      "metadata": {
        "id": "wlPw8I4osYgq"
      },
      "source": [
        "Look at the labels of the first five examples."
      ]
    },
    {
      "cell_type": "code",
      "execution_count": 65,
      "metadata": {
        "colab": {
          "base_uri": "https://localhost:8080/"
        },
        "id": "pll2lhaMsYgq",
        "outputId": "7a5c7a1b-8a71-452d-bbb6-01ed2a59a216"
      },
      "outputs": [
        {
          "output_type": "execute_result",
          "data": {
            "text/plain": [
              "array([4.526, 3.585, 3.521, 3.413, 3.422])"
            ]
          },
          "metadata": {},
          "execution_count": 65
        }
      ],
      "source": [
        "housing_data.target[:5]"
      ]
    },
    {
      "cell_type": "markdown",
      "metadata": {
        "id": "djPG4LEks4ot"
      },
      "source": [
        "Note that the labels seem to be real numbers."
      ]
    },
    {
      "cell_type": "markdown",
      "metadata": {
        "id": "LrzrRwypsYgq"
      },
      "source": [
        "Find out the names of the features."
      ]
    },
    {
      "cell_type": "code",
      "execution_count": 66,
      "metadata": {
        "colab": {
          "base_uri": "https://localhost:8080/"
        },
        "id": "iI13vbRjsYgr",
        "outputId": "6e619c40-38a1-4b4b-b177-5bfb90122c09"
      },
      "outputs": [
        {
          "output_type": "execute_result",
          "data": {
            "text/plain": [
              "['MedInc',\n",
              " 'HouseAge',\n",
              " 'AveRooms',\n",
              " 'AveBedrms',\n",
              " 'Population',\n",
              " 'AveOccup',\n",
              " 'Latitude',\n",
              " 'Longitude']"
            ]
          },
          "metadata": {},
          "execution_count": 66
        }
      ],
      "source": [
        "housing_data.feature_names"
      ]
    },
    {
      "cell_type": "markdown",
      "metadata": {
        "id": "de5H95zpsYgr"
      },
      "source": [
        "Find names of class labels."
      ]
    },
    {
      "cell_type": "code",
      "execution_count": 67,
      "metadata": {
        "colab": {
          "base_uri": "https://localhost:8080/"
        },
        "id": "rfVZsB3rsYgr",
        "outputId": "392cc319-e3be-4415-a23e-34b53f03e33a"
      },
      "outputs": [
        {
          "output_type": "execute_result",
          "data": {
            "text/plain": [
              "['MedHouseVal']"
            ]
          },
          "metadata": {},
          "execution_count": 67
        }
      ],
      "source": [
        "housing_data.target_names"
      ]
    },
    {
      "cell_type": "markdown",
      "metadata": {
        "id": "gMLE0dKkqPvx"
      },
      "source": [
        "## `fetch_openml`"
      ]
    },
    {
      "cell_type": "markdown",
      "metadata": {
        "id": "9QMH68xbrhE0"
      },
      "source": [
        "[openml.org](openml.org) is a public repository for machine learning data and experiments, that allows everybody to upload open datasets."
      ]
    },
    {
      "cell_type": "markdown",
      "metadata": {
        "id": "BX25tu_OqZ8E"
      },
      "source": [
        "Import the library and access the documentation."
      ]
    },
    {
      "cell_type": "code",
      "execution_count": 68,
      "metadata": {
        "id": "1naI0htXqacE"
      },
      "outputs": [],
      "source": [
        "from sklearn.datasets import fetch_openml\n",
        "?fetch_openml"
      ]
    },
    {
      "cell_type": "markdown",
      "metadata": {
        "id": "PCPZocv4qvUs"
      },
      "source": [
        "Note that this is an experimental API and is likely to change in the future releases.\n",
        "\n",
        "> We use this API for loading MNIST dataset."
      ]
    },
    {
      "cell_type": "code",
      "execution_count": 69,
      "metadata": {
        "colab": {
          "base_uri": "https://localhost:8080/"
        },
        "id": "6rNj-gIAsUhi",
        "outputId": "1a9f9b3f-8fea-499c-d0ee-3381c38be97f"
      },
      "outputs": [
        {
          "output_type": "stream",
          "name": "stderr",
          "text": [
            "/usr/local/lib/python3.10/dist-packages/sklearn/datasets/_openml.py:968: FutureWarning: The default value of `parser` will change from `'liac-arff'` to `'auto'` in 1.4. You can set `parser='auto'` to silence this warning. Therefore, an `ImportError` will be raised from 1.4 if the dataset is dense and pandas is not installed. Note that the pandas parser may return different data types. See the Notes Section in fetch_openml's API doc for details.\n",
            "  warn(\n"
          ]
        },
        {
          "output_type": "stream",
          "name": "stdout",
          "text": [
            "Feature matrix shape: (70000, 784)\n",
            "Label shape: (70000,)\n"
          ]
        }
      ],
      "source": [
        "X, y = fetch_openml('mnist_784', version=1, return_X_y=True)\n",
        "print (\"Feature matrix shape:\", X.shape)\n",
        "print (\"Label shape:\", y.shape)"
      ]
    },
    {
      "cell_type": "markdown",
      "metadata": {
        "id": "v_t4hYhdtLlz"
      },
      "source": [
        "## Exercise"
      ]
    },
    {
      "cell_type": "markdown",
      "metadata": {
        "id": "rvQLljdbtPC-"
      },
      "source": [
        "### `fetch_20newsgroups`"
      ]
    },
    {
      "cell_type": "markdown",
      "metadata": {
        "id": "AZ9IeH29tPC-"
      },
      "source": [
        "**Step 1.** Import the loader."
      ]
    },
    {
      "cell_type": "code",
      "execution_count": 70,
      "metadata": {
        "id": "iwvFVMvMtPC-"
      },
      "outputs": [],
      "source": [
        "from sklearn.datasets import fetch_20newsgroups\n",
        "newsgroups_dataset = fetch_20newsgroups()"
      ]
    },
    {
      "cell_type": "markdown",
      "metadata": {
        "id": "4zenN776tPC_"
      },
      "source": [
        "**Step 1a.** In case, you want to know more about the loader, access its documentation by using `?<loader_name>' command."
      ]
    },
    {
      "cell_type": "code",
      "execution_count": 71,
      "metadata": {
        "id": "foPlHugPtPC_"
      },
      "outputs": [],
      "source": [
        "?fetch_20newsgroups"
      ]
    },
    {
      "cell_type": "markdown",
      "metadata": {
        "id": "yEG2jTNJtPC_"
      },
      "source": [
        "**Step 2.** Load the dataset and obtain a `Bunch` object."
      ]
    },
    {
      "cell_type": "code",
      "execution_count": 72,
      "metadata": {
        "id": "M83ReTRDtPC_",
        "outputId": "e1155c1f-6613-4bcd-92b1-c252b6cf9c19",
        "colab": {
          "base_uri": "https://localhost:8080/"
        }
      },
      "outputs": [
        {
          "output_type": "execute_result",
          "data": {
            "text/plain": [
              "sklearn.utils._bunch.Bunch"
            ]
          },
          "metadata": {},
          "execution_count": 72
        }
      ],
      "source": [
        "type(newsgroups_dataset)"
      ]
    },
    {
      "cell_type": "markdown",
      "metadata": {
        "id": "lKDSex6OtPC_"
      },
      "source": [
        "**Step 3.** Examine the bunch object."
      ]
    },
    {
      "cell_type": "markdown",
      "metadata": {
        "id": "7VehssILtPDA"
      },
      "source": [
        "Look at the description of the dataset."
      ]
    },
    {
      "cell_type": "code",
      "execution_count": 73,
      "metadata": {
        "id": "OP2myCHXtPDA",
        "outputId": "70745aba-108f-42be-e4dd-e28eac49907d",
        "colab": {
          "base_uri": "https://localhost:8080/",
          "height": 157
        }
      },
      "outputs": [
        {
          "output_type": "execute_result",
          "data": {
            "text/plain": [
              "'.. _20newsgroups_dataset:\\n\\nThe 20 newsgroups text dataset\\n------------------------------\\n\\nThe 20 newsgroups dataset comprises around 18000 newsgroups posts on\\n20 topics split in two subsets: one for training (or development)\\nand the other one for testing (or for performance evaluation). The split\\nbetween the train and test set is based upon a messages posted before\\nand after a specific date.\\n\\nThis module contains two loaders. The first one,\\n:func:`sklearn.datasets.fetch_20newsgroups`,\\nreturns a list of the raw texts that can be fed to text feature\\nextractors such as :class:`~sklearn.feature_extraction.text.CountVectorizer`\\nwith custom parameters so as to extract feature vectors.\\nThe second one, :func:`sklearn.datasets.fetch_20newsgroups_vectorized`,\\nreturns ready-to-use features, i.e., it is not necessary to use a feature\\nextractor.\\n\\n**Data Set Characteristics:**\\n\\n    =================   ==========\\n    Classes                     20\\n    Samples total            18846\\n    Dimensionality               1\\n    Features                  text\\n    =================   ==========\\n\\nUsage\\n~~~~~\\n\\nThe :func:`sklearn.datasets.fetch_20newsgroups` function is a data\\nfetching / caching functions that downloads the data archive from\\nthe original `20 newsgroups website`_, extracts the archive contents\\nin the ``~/scikit_learn_data/20news_home`` folder and calls the\\n:func:`sklearn.datasets.load_files` on either the training or\\ntesting set folder, or both of them::\\n\\n  >>> from sklearn.datasets import fetch_20newsgroups\\n  >>> newsgroups_train = fetch_20newsgroups(subset=\\'train\\')\\n\\n  >>> from pprint import pprint\\n  >>> pprint(list(newsgroups_train.target_names))\\n  [\\'alt.atheism\\',\\n   \\'comp.graphics\\',\\n   \\'comp.os.ms-windows.misc\\',\\n   \\'comp.sys.ibm.pc.hardware\\',\\n   \\'comp.sys.mac.hardware\\',\\n   \\'comp.windows.x\\',\\n   \\'misc.forsale\\',\\n   \\'rec.autos\\',\\n   \\'rec.motorcycles\\',\\n   \\'rec.sport.baseball\\',\\n   \\'rec.sport.hockey\\',\\n   \\'sci.crypt\\',\\n   \\'sci.electronics\\',\\n   \\'sci.med\\',\\n   \\'sci.space\\',\\n   \\'soc.religion.christian\\',\\n   \\'talk.politics.guns\\',\\n   \\'talk.politics.mideast\\',\\n   \\'talk.politics.misc\\',\\n   \\'talk.religion.misc\\']\\n\\nThe real data lies in the ``filenames`` and ``target`` attributes. The target\\nattribute is the integer index of the category::\\n\\n  >>> newsgroups_train.filenames.shape\\n  (11314,)\\n  >>> newsgroups_train.target.shape\\n  (11314,)\\n  >>> newsgroups_train.target[:10]\\n  array([ 7,  4,  4,  1, 14, 16, 13,  3,  2,  4])\\n\\nIt is possible to load only a sub-selection of the categories by passing the\\nlist of the categories to load to the\\n:func:`sklearn.datasets.fetch_20newsgroups` function::\\n\\n  >>> cats = [\\'alt.atheism\\', \\'sci.space\\']\\n  >>> newsgroups_train = fetch_20newsgroups(subset=\\'train\\', categories=cats)\\n\\n  >>> list(newsgroups_train.target_names)\\n  [\\'alt.atheism\\', \\'sci.space\\']\\n  >>> newsgroups_train.filenames.shape\\n  (1073,)\\n  >>> newsgroups_train.target.shape\\n  (1073,)\\n  >>> newsgroups_train.target[:10]\\n  array([0, 1, 1, 1, 0, 1, 1, 0, 0, 0])\\n\\nConverting text to vectors\\n~~~~~~~~~~~~~~~~~~~~~~~~~~\\n\\nIn order to feed predictive or clustering models with the text data,\\none first need to turn the text into vectors of numerical values suitable\\nfor statistical analysis. This can be achieved with the utilities of the\\n``sklearn.feature_extraction.text`` as demonstrated in the following\\nexample that extract `TF-IDF`_ vectors of unigram tokens\\nfrom a subset of 20news::\\n\\n  >>> from sklearn.feature_extraction.text import TfidfVectorizer\\n  >>> categories = [\\'alt.atheism\\', \\'talk.religion.misc\\',\\n  ...               \\'comp.graphics\\', \\'sci.space\\']\\n  >>> newsgroups_train = fetch_20newsgroups(subset=\\'train\\',\\n  ...                                       categories=categories)\\n  >>> vectorizer = TfidfVectorizer()\\n  >>> vectors = vectorizer.fit_transform(newsgroups_train.data)\\n  >>> vectors.shape\\n  (2034, 34118)\\n\\nThe extracted TF-IDF vectors are very sparse, with an average of 159 non-zero\\ncomponents by sample in a more than 30000-dimensional space\\n(less than .5% non-zero features)::\\n\\n  >>> vectors.nnz / float(vectors.shape[0])\\n  159.01327...\\n\\n:func:`sklearn.datasets.fetch_20newsgroups_vectorized` is a function which\\nreturns ready-to-use token counts features instead of file names.\\n\\n.. _`20 newsgroups website`: http://people.csail.mit.edu/jrennie/20Newsgroups/\\n.. _`TF-IDF`: https://en.wikipedia.org/wiki/Tf-idf\\n\\n\\nFiltering text for more realistic training\\n~~~~~~~~~~~~~~~~~~~~~~~~~~~~~~~~~~~~~~~~~~\\n\\nIt is easy for a classifier to overfit on particular things that appear in the\\n20 Newsgroups data, such as newsgroup headers. Many classifiers achieve very\\nhigh F-scores, but their results would not generalize to other documents that\\naren\\'t from this window of time.\\n\\nFor example, let\\'s look at the results of a multinomial Naive Bayes classifier,\\nwhich is fast to train and achieves a decent F-score::\\n\\n  >>> from sklearn.naive_bayes import MultinomialNB\\n  >>> from sklearn import metrics\\n  >>> newsgroups_test = fetch_20newsgroups(subset=\\'test\\',\\n  ...                                      categories=categories)\\n  >>> vectors_test = vectorizer.transform(newsgroups_test.data)\\n  >>> clf = MultinomialNB(alpha=.01)\\n  >>> clf.fit(vectors, newsgroups_train.target)\\n  MultinomialNB(alpha=0.01, class_prior=None, fit_prior=True)\\n\\n  >>> pred = clf.predict(vectors_test)\\n  >>> metrics.f1_score(newsgroups_test.target, pred, average=\\'macro\\')\\n  0.88213...\\n\\n(The example :ref:`sphx_glr_auto_examples_text_plot_document_classification_20newsgroups.py` shuffles\\nthe training and test data, instead of segmenting by time, and in that case\\nmultinomial Naive Bayes gets a much higher F-score of 0.88. Are you suspicious\\nyet of what\\'s going on inside this classifier?)\\n\\nLet\\'s take a look at what the most informative features are:\\n\\n  >>> import numpy as np\\n  >>> def show_top10(classifier, vectorizer, categories):\\n  ...     feature_names = vectorizer.get_feature_names_out()\\n  ...     for i, category in enumerate(categories):\\n  ...         top10 = np.argsort(classifier.coef_[i])[-10:]\\n  ...         print(\"%s: %s\" % (category, \" \".join(feature_names[top10])))\\n  ...\\n  >>> show_top10(clf, vectorizer, newsgroups_train.target_names)\\n  alt.atheism: edu it and in you that is of to the\\n  comp.graphics: edu in graphics it is for and of to the\\n  sci.space: edu it that is in and space to of the\\n  talk.religion.misc: not it you in is that and to of the\\n\\n\\nYou can now see many things that these features have overfit to:\\n\\n- Almost every group is distinguished by whether headers such as\\n  ``NNTP-Posting-Host:`` and ``Distribution:`` appear more or less often.\\n- Another significant feature involves whether the sender is affiliated with\\n  a university, as indicated either by their headers or their signature.\\n- The word \"article\" is a significant feature, based on how often people quote\\n  previous posts like this: \"In article [article ID], [name] <[e-mail address]>\\n  wrote:\"\\n- Other features match the names and e-mail addresses of particular people who\\n  were posting at the time.\\n\\nWith such an abundance of clues that distinguish newsgroups, the classifiers\\nbarely have to identify topics from text at all, and they all perform at the\\nsame high level.\\n\\nFor this reason, the functions that load 20 Newsgroups data provide a\\nparameter called **remove**, telling it what kinds of information to strip out\\nof each file. **remove** should be a tuple containing any subset of\\n``(\\'headers\\', \\'footers\\', \\'quotes\\')``, telling it to remove headers, signature\\nblocks, and quotation blocks respectively.\\n\\n  >>> newsgroups_test = fetch_20newsgroups(subset=\\'test\\',\\n  ...                                      remove=(\\'headers\\', \\'footers\\', \\'quotes\\'),\\n  ...                                      categories=categories)\\n  >>> vectors_test = vectorizer.transform(newsgroups_test.data)\\n  >>> pred = clf.predict(vectors_test)\\n  >>> metrics.f1_score(pred, newsgroups_test.target, average=\\'macro\\')\\n  0.77310...\\n\\nThis classifier lost over a lot of its F-score, just because we removed\\nmetadata that has little to do with topic classification.\\nIt loses even more if we also strip this metadata from the training data:\\n\\n  >>> newsgroups_train = fetch_20newsgroups(subset=\\'train\\',\\n  ...                                       remove=(\\'headers\\', \\'footers\\', \\'quotes\\'),\\n  ...                                       categories=categories)\\n  >>> vectors = vectorizer.fit_transform(newsgroups_train.data)\\n  >>> clf = MultinomialNB(alpha=.01)\\n  >>> clf.fit(vectors, newsgroups_train.target)\\n  MultinomialNB(alpha=0.01, class_prior=None, fit_prior=True)\\n\\n  >>> vectors_test = vectorizer.transform(newsgroups_test.data)\\n  >>> pred = clf.predict(vectors_test)\\n  >>> metrics.f1_score(newsgroups_test.target, pred, average=\\'macro\\')\\n  0.76995...\\n\\nSome other classifiers cope better with this harder version of the task. Try the\\n:ref:`sphx_glr_auto_examples_model_selection_plot_grid_search_text_feature_extraction.py`\\nexample with and without the `remove` option to compare the results.\\n\\n.. topic:: Data Considerations\\n\\n  The Cleveland Indians is a major league baseball team based in Cleveland,\\n  Ohio, USA. In December 2020, it was reported that \"After several months of\\n  discussion sparked by the death of George Floyd and a national reckoning over\\n  race and colonialism, the Cleveland Indians have decided to change their\\n  name.\" Team owner Paul Dolan \"did make it clear that the team will not make\\n  its informal nickname -- the Tribe -- its new team name.\" \"It\\'s not going to\\n  be a half-step away from the Indians,\" Dolan said.\"We will not have a Native\\n  American-themed name.\"\\n\\n  https://www.mlb.com/news/cleveland-indians-team-name-change\\n\\n.. topic:: Recommendation\\n\\n  - When evaluating text classifiers on the 20 Newsgroups data, you\\n    should strip newsgroup-related metadata. In scikit-learn, you can do this\\n    by setting ``remove=(\\'headers\\', \\'footers\\', \\'quotes\\')``. The F-score will be\\n    lower because it is more realistic.\\n  - This text dataset contains data which may be inappropriate for certain NLP\\n    applications. An example is listed in the \"Data Considerations\" section\\n    above. The challenge with using current text datasets in NLP for tasks such\\n    as sentence completion, clustering, and other applications is that text\\n    that is culturally biased and inflammatory will propagate biases. This\\n    should be taken into consideration when using the dataset, reviewing the\\n    output, and the bias should be documented.\\n\\n.. topic:: Examples\\n\\n   * :ref:`sphx_glr_auto_examples_model_selection_plot_grid_search_text_feature_extraction.py`\\n\\n   * :ref:`sphx_glr_auto_examples_text_plot_document_classification_20newsgroups.py`\\n\\n   * :ref:`sphx_glr_auto_examples_text_plot_hashing_vs_dict_vectorizer.py`\\n\\n   * :ref:`sphx_glr_auto_examples_text_plot_document_clustering.py`\\n'"
            ],
            "application/vnd.google.colaboratory.intrinsic+json": {
              "type": "string"
            }
          },
          "metadata": {},
          "execution_count": 73
        }
      ],
      "source": [
        "newsgroups_dataset.DESCR"
      ]
    },
    {
      "cell_type": "markdown",
      "metadata": {
        "id": "5Ha7Ok0EtPDA"
      },
      "source": [
        "Find out the shape of the feature matrix."
      ]
    },
    {
      "cell_type": "code",
      "execution_count": 74,
      "metadata": {
        "id": "lQuMoSuMtPDA",
        "outputId": "110b9aa2-84b7-40f0-c43c-49eb1d612fa1",
        "colab": {
          "base_uri": "https://localhost:8080/"
        }
      },
      "outputs": [
        {
          "output_type": "execute_result",
          "data": {
            "text/plain": [
              "11314"
            ]
          },
          "metadata": {},
          "execution_count": 74
        }
      ],
      "source": [
        "feature_matrix = newsgroups_dataset.data\n",
        "len(feature_matrix)"
      ]
    },
    {
      "cell_type": "markdown",
      "metadata": {
        "id": "hzFHPamHtPDB"
      },
      "source": [
        "Look at the first five examples from the feature matrix."
      ]
    },
    {
      "cell_type": "code",
      "execution_count": 75,
      "metadata": {
        "id": "4Wn-MvuztPDB",
        "outputId": "f757f367-dd80-483d-bb60-71d567e873c5",
        "colab": {
          "base_uri": "https://localhost:8080/"
        }
      },
      "outputs": [
        {
          "output_type": "execute_result",
          "data": {
            "text/plain": [
              "[\"From: lerxst@wam.umd.edu (where's my thing)\\nSubject: WHAT car is this!?\\nNntp-Posting-Host: rac3.wam.umd.edu\\nOrganization: University of Maryland, College Park\\nLines: 15\\n\\n I was wondering if anyone out there could enlighten me on this car I saw\\nthe other day. It was a 2-door sports car, looked to be from the late 60s/\\nearly 70s. It was called a Bricklin. The doors were really small. In addition,\\nthe front bumper was separate from the rest of the body. This is \\nall I know. If anyone can tellme a model name, engine specs, years\\nof production, where this car is made, history, or whatever info you\\nhave on this funky looking car, please e-mail.\\n\\nThanks,\\n- IL\\n   ---- brought to you by your neighborhood Lerxst ----\\n\\n\\n\\n\\n\",\n",
              " \"From: guykuo@carson.u.washington.edu (Guy Kuo)\\nSubject: SI Clock Poll - Final Call\\nSummary: Final call for SI clock reports\\nKeywords: SI,acceleration,clock,upgrade\\nArticle-I.D.: shelley.1qvfo9INNc3s\\nOrganization: University of Washington\\nLines: 11\\nNNTP-Posting-Host: carson.u.washington.edu\\n\\nA fair number of brave souls who upgraded their SI clock oscillator have\\nshared their experiences for this poll. Please send a brief message detailing\\nyour experiences with the procedure. Top speed attained, CPU rated speed,\\nadd on cards and adapters, heat sinks, hour of usage per day, floppy disk\\nfunctionality with 800 and 1.4 m floppies are especially requested.\\n\\nI will be summarizing in the next two days, so please add to the network\\nknowledge base if you have done the clock upgrade and haven't answered this\\npoll. Thanks.\\n\\nGuy Kuo <guykuo@u.washington.edu>\\n\",\n",
              " 'From: twillis@ec.ecn.purdue.edu (Thomas E Willis)\\nSubject: PB questions...\\nOrganization: Purdue University Engineering Computer Network\\nDistribution: usa\\nLines: 36\\n\\nwell folks, my mac plus finally gave up the ghost this weekend after\\nstarting life as a 512k way back in 1985.  sooo, i\\'m in the market for a\\nnew machine a bit sooner than i intended to be...\\n\\ni\\'m looking into picking up a powerbook 160 or maybe 180 and have a bunch\\nof questions that (hopefully) somebody can answer:\\n\\n* does anybody know any dirt on when the next round of powerbook\\nintroductions are expected?  i\\'d heard the 185c was supposed to make an\\nappearence \"this summer\" but haven\\'t heard anymore on it - and since i\\ndon\\'t have access to macleak, i was wondering if anybody out there had\\nmore info...\\n\\n* has anybody heard rumors about price drops to the powerbook line like the\\nones the duo\\'s just went through recently?\\n\\n* what\\'s the impression of the display on the 180?  i could probably swing\\na 180 if i got the 80Mb disk rather than the 120, but i don\\'t really have\\na feel for how much \"better\" the display is (yea, it looks great in the\\nstore, but is that all \"wow\" or is it really that good?).  could i solicit\\nsome opinions of people who use the 160 and 180 day-to-day on if its worth\\ntaking the disk size and money hit to get the active display?  (i realize\\nthis is a real subjective question, but i\\'ve only played around with the\\nmachines in a computer store breifly and figured the opinions of somebody\\nwho actually uses the machine daily might prove helpful).\\n\\n* how well does hellcats perform?  ;)\\n\\nthanks a bunch in advance for any info - if you could email, i\\'ll post a\\nsummary (news reading time is at a premium with finals just around the\\ncorner... :( )\\n--\\nTom Willis  \\\\  twillis@ecn.purdue.edu    \\\\    Purdue Electrical Engineering\\n---------------------------------------------------------------------------\\n\"Convictions are more dangerous enemies of truth than lies.\"  - F. W.\\nNietzsche\\n',\n",
              " 'From: jgreen@amber (Joe Green)\\nSubject: Re: Weitek P9000 ?\\nOrganization: Harris Computer Systems Division\\nLines: 14\\nDistribution: world\\nNNTP-Posting-Host: amber.ssd.csd.harris.com\\nX-Newsreader: TIN [version 1.1 PL9]\\n\\nRobert J.C. Kyanko (rob@rjck.UUCP) wrote:\\n> abraxis@iastate.edu writes in article <abraxis.734340159@class1.iastate.edu>:\\n> > Anyone know about the Weitek P9000 graphics chip?\\n> As far as the low-level stuff goes, it looks pretty nice.  It\\'s got this\\n> quadrilateral fill command that requires just the four points.\\n\\nDo you have Weitek\\'s address/phone number?  I\\'d like to get some information\\nabout this chip.\\n\\n--\\nJoe Green\\t\\t\\t\\tHarris Corporation\\njgreen@csd.harris.com\\t\\t\\tComputer Systems Division\\n\"The only thing that really scares me is a person with no sense of humor.\"\\n\\t\\t\\t\\t\\t\\t-- Jonathan Winters\\n',\n",
              " 'From: jcm@head-cfa.harvard.edu (Jonathan McDowell)\\nSubject: Re: Shuttle Launch Question\\nOrganization: Smithsonian Astrophysical Observatory, Cambridge, MA,  USA\\nDistribution: sci\\nLines: 23\\n\\nFrom article <C5owCB.n3p@world.std.com>, by tombaker@world.std.com (Tom A Baker):\\n>>In article <C5JLwx.4H9.1@cs.cmu.edu>, ETRAT@ttacs1.ttu.edu (Pack Rat) writes...\\n>>>\"Clear caution & warning memory.  Verify no unexpected\\n>>>errors. ...\".  I am wondering what an \"expected error\" might\\n>>>be.  Sorry if this is a really dumb question, but\\n> \\n> Parity errors in memory or previously known conditions that were waivered.\\n>    \"Yes that is an error, but we already knew about it\"\\n> I\\'d be curious as to what the real meaning of the quote is.\\n> \\n> tom\\n\\n\\nMy understanding is that the \\'expected errors\\' are basically\\nknown bugs in the warning system software - things are checked\\nthat don\\'t have the right values in yet because they aren\\'t\\nset till after launch, and suchlike. Rather than fix the code\\nand possibly introduce new bugs, they just tell the crew\\n\\'ok, if you see a warning no. 213 before liftoff, ignore it\\'.\\n\\n - Jonathan\\n\\n\\n']"
            ]
          },
          "metadata": {},
          "execution_count": 75
        }
      ],
      "source": [
        "feature_matrix[:5]"
      ]
    },
    {
      "cell_type": "markdown",
      "metadata": {
        "id": "bSMFqIQytPDB"
      },
      "source": [
        "Find out the shape of the label matrix."
      ]
    },
    {
      "cell_type": "code",
      "execution_count": 76,
      "metadata": {
        "id": "7gRXR1C6tPDC",
        "outputId": "365a9b81-c048-4a3f-dbf4-b1f129da2272",
        "colab": {
          "base_uri": "https://localhost:8080/"
        }
      },
      "outputs": [
        {
          "output_type": "execute_result",
          "data": {
            "text/plain": [
              "(11314,)"
            ]
          },
          "metadata": {},
          "execution_count": 76
        }
      ],
      "source": [
        "label_matrix = newsgroups_dataset.target\n",
        "label_matrix.shape"
      ]
    },
    {
      "cell_type": "markdown",
      "metadata": {
        "id": "puPhB-WitPDC"
      },
      "source": [
        "Look at the labels of the first five examples."
      ]
    },
    {
      "cell_type": "code",
      "execution_count": 77,
      "metadata": {
        "id": "9ApeueqVtPDC",
        "outputId": "3d906e95-ad1a-498e-beba-d78d2aa86303",
        "colab": {
          "base_uri": "https://localhost:8080/"
        }
      },
      "outputs": [
        {
          "output_type": "execute_result",
          "data": {
            "text/plain": [
              "array([ 7,  4,  4,  1, 14])"
            ]
          },
          "metadata": {},
          "execution_count": 77
        }
      ],
      "source": [
        "label_matrix[:5]"
      ]
    },
    {
      "cell_type": "markdown",
      "metadata": {
        "id": "pxM21e8ntPDD"
      },
      "source": [
        "Find names of class labels."
      ]
    },
    {
      "cell_type": "code",
      "execution_count": 78,
      "metadata": {
        "id": "ss8Sli1itPDD",
        "outputId": "30c265c3-532e-4824-a0cc-c81ed23d749e",
        "colab": {
          "base_uri": "https://localhost:8080/"
        }
      },
      "outputs": [
        {
          "output_type": "execute_result",
          "data": {
            "text/plain": [
              "['alt.atheism',\n",
              " 'comp.graphics',\n",
              " 'comp.os.ms-windows.misc',\n",
              " 'comp.sys.ibm.pc.hardware',\n",
              " 'comp.sys.mac.hardware',\n",
              " 'comp.windows.x',\n",
              " 'misc.forsale',\n",
              " 'rec.autos',\n",
              " 'rec.motorcycles',\n",
              " 'rec.sport.baseball',\n",
              " 'rec.sport.hockey',\n",
              " 'sci.crypt',\n",
              " 'sci.electronics',\n",
              " 'sci.med',\n",
              " 'sci.space',\n",
              " 'soc.religion.christian',\n",
              " 'talk.politics.guns',\n",
              " 'talk.politics.mideast',\n",
              " 'talk.politics.misc',\n",
              " 'talk.religion.misc']"
            ]
          },
          "metadata": {},
          "execution_count": 78
        }
      ],
      "source": [
        "newsgroups_dataset.target_names"
      ]
    },
    {
      "cell_type": "markdown",
      "metadata": {
        "id": "i494pktStXXp"
      },
      "source": [
        "### `fetch_kddcup99`"
      ]
    },
    {
      "cell_type": "markdown",
      "metadata": {
        "id": "kvVBCIWdtXXq"
      },
      "source": [
        "**Step 1.** Import the loader."
      ]
    },
    {
      "cell_type": "code",
      "execution_count": 79,
      "metadata": {
        "id": "TfILwGcttXXq"
      },
      "outputs": [],
      "source": [
        "from sklearn.datasets import fetch_kddcup99\n",
        "kddcup99_dataset = fetch_kddcup99()"
      ]
    },
    {
      "cell_type": "markdown",
      "metadata": {
        "id": "aRWlTKm8tXXq"
      },
      "source": [
        "**Step 1a.** In case, you want to know more about the loader, access its documentation by using `?<loader_name>' command."
      ]
    },
    {
      "cell_type": "code",
      "execution_count": 80,
      "metadata": {
        "id": "_NiMMVmltXXr",
        "colab": {
          "base_uri": "https://localhost:8080/"
        },
        "outputId": "40b628cf-73dc-421d-ba07-a32f4a764010"
      },
      "outputs": [
        {
          "output_type": "stream",
          "name": "stdout",
          "text": [
            "Object `fetch_kddcup99()` not found.\n"
          ]
        }
      ],
      "source": [
        "?fetch_kddcup99()"
      ]
    },
    {
      "cell_type": "markdown",
      "metadata": {
        "id": "ecWMTHNwtXXr"
      },
      "source": [
        "**Step 2.** Load the dataset and obtain a `Bunch` object."
      ]
    },
    {
      "cell_type": "code",
      "execution_count": 81,
      "metadata": {
        "id": "ryGcJjd6tXXr",
        "colab": {
          "base_uri": "https://localhost:8080/"
        },
        "outputId": "e722987d-3d69-473d-f449-f2923edb86b0"
      },
      "outputs": [
        {
          "output_type": "execute_result",
          "data": {
            "text/plain": [
              "sklearn.utils._bunch.Bunch"
            ]
          },
          "metadata": {},
          "execution_count": 81
        }
      ],
      "source": [
        "type(kddcup99_dataset)"
      ]
    },
    {
      "cell_type": "markdown",
      "metadata": {
        "id": "5I9of7cktXXr"
      },
      "source": [
        "**Step 3.** Examine the bunch object."
      ]
    },
    {
      "cell_type": "markdown",
      "metadata": {
        "id": "PZRkHo1FtXXr"
      },
      "source": [
        "Look at the description of the dataset."
      ]
    },
    {
      "cell_type": "code",
      "execution_count": 82,
      "metadata": {
        "id": "NDgnyjTytXXr",
        "colab": {
          "base_uri": "https://localhost:8080/",
          "height": 157
        },
        "outputId": "72a70b49-5482-43b4-c760-74160d270298"
      },
      "outputs": [
        {
          "output_type": "execute_result",
          "data": {
            "text/plain": [
              "'.. _kddcup99_dataset:\\n\\nKddcup 99 dataset\\n-----------------\\n\\nThe KDD Cup \\'99 dataset was created by processing the tcpdump portions\\nof the 1998 DARPA Intrusion Detection System (IDS) Evaluation dataset,\\ncreated by MIT Lincoln Lab [2]_. The artificial data (described on the `dataset\\'s\\nhomepage <https://kdd.ics.uci.edu/databases/kddcup99/kddcup99.html>`_) was\\ngenerated using a closed network and hand-injected attacks to produce a\\nlarge number of different types of attack with normal activity in the\\nbackground. As the initial goal was to produce a large training set for\\nsupervised learning algorithms, there is a large proportion (80.1%) of\\nabnormal data which is unrealistic in real world, and inappropriate for\\nunsupervised anomaly detection which aims at detecting \\'abnormal\\' data, i.e.:\\n\\n* qualitatively different from normal data\\n* in large minority among the observations.\\n\\nWe thus transform the KDD Data set into two different data sets: SA and SF.\\n\\n* SA is obtained by simply selecting all the normal data, and a small\\n  proportion of abnormal data to gives an anomaly proportion of 1%.\\n\\n* SF is obtained as in [3]_\\n  by simply picking up the data whose attribute logged_in is positive, thus\\n  focusing on the intrusion attack, which gives a proportion of 0.3% of\\n  attack.\\n\\n* http and smtp are two subsets of SF corresponding with third feature\\n  equal to \\'http\\' (resp. to \\'smtp\\').\\n\\nGeneral KDD structure :\\n\\n    ================      ==========================================\\n    Samples total         4898431\\n    Dimensionality        41\\n    Features              discrete (int) or continuous (float)\\n    Targets               str, \\'normal.\\' or name of the anomaly type\\n    ================      ==========================================\\n\\n    SA structure :\\n\\n    ================      ==========================================\\n    Samples total         976158\\n    Dimensionality        41\\n    Features              discrete (int) or continuous (float)\\n    Targets               str, \\'normal.\\' or name of the anomaly type\\n    ================      ==========================================\\n\\n    SF structure :\\n\\n    ================      ==========================================\\n    Samples total         699691\\n    Dimensionality        4\\n    Features              discrete (int) or continuous (float)\\n    Targets               str, \\'normal.\\' or name of the anomaly type\\n    ================      ==========================================\\n\\n    http structure :\\n\\n    ================      ==========================================\\n    Samples total         619052\\n    Dimensionality        3\\n    Features              discrete (int) or continuous (float)\\n    Targets               str, \\'normal.\\' or name of the anomaly type\\n    ================      ==========================================\\n\\n    smtp structure :\\n\\n    ================      ==========================================\\n    Samples total         95373\\n    Dimensionality        3\\n    Features              discrete (int) or continuous (float)\\n    Targets               str, \\'normal.\\' or name of the anomaly type\\n    ================      ==========================================\\n\\n:func:`sklearn.datasets.fetch_kddcup99` will load the kddcup99 dataset; it\\nreturns a dictionary-like object with the feature matrix in the ``data`` member\\nand the target values in ``target``. The \"as_frame\" optional argument converts\\n``data`` into a pandas DataFrame and ``target`` into a pandas Series. The\\ndataset will be downloaded from the web if necessary.\\n\\n.. topic:: References\\n\\n    .. [2] Analysis and Results of the 1999 DARPA Off-Line Intrusion\\n           Detection Evaluation, Richard Lippmann, Joshua W. Haines,\\n           David J. Fried, Jonathan Korba, Kumar Das.\\n\\n    .. [3] K. Yamanishi, J.-I. Takeuchi, G. Williams, and P. Milne. Online\\n           unsupervised outlier detection using finite mixtures with\\n           discounting learning algorithms. In Proceedings of the sixth\\n           ACM SIGKDD international conference on Knowledge discovery\\n           and data mining, pages 320-324. ACM Press, 2000.\\n'"
            ],
            "application/vnd.google.colaboratory.intrinsic+json": {
              "type": "string"
            }
          },
          "metadata": {},
          "execution_count": 82
        }
      ],
      "source": [
        "kddcup99_dataset.DESCR"
      ]
    },
    {
      "cell_type": "markdown",
      "metadata": {
        "id": "DAqPd3fwtXXs"
      },
      "source": [
        "Find out the shape of the feature matrix."
      ]
    },
    {
      "cell_type": "code",
      "execution_count": 83,
      "metadata": {
        "id": "hY0BNEr8tXXs",
        "colab": {
          "base_uri": "https://localhost:8080/"
        },
        "outputId": "36036585-692c-4f2b-fbcb-13fe8eadf9b5"
      },
      "outputs": [
        {
          "output_type": "execute_result",
          "data": {
            "text/plain": [
              "(494021, 41)"
            ]
          },
          "metadata": {},
          "execution_count": 83
        }
      ],
      "source": [
        "feature_matrix = kddcup99_dataset.data\n",
        "feature_matrix.shape"
      ]
    },
    {
      "cell_type": "markdown",
      "metadata": {
        "id": "WGUKjT9RtXXs"
      },
      "source": [
        "Look at the first five examples from the feature matrix."
      ]
    },
    {
      "cell_type": "code",
      "execution_count": 84,
      "metadata": {
        "id": "6TSC8NEgtXXs",
        "colab": {
          "base_uri": "https://localhost:8080/"
        },
        "outputId": "443535f9-a5a4-46ea-a801-aaf55d058441"
      },
      "outputs": [
        {
          "output_type": "execute_result",
          "data": {
            "text/plain": [
              "array([[0, b'tcp', b'http', b'SF', 181, 5450, 0, 0, 0, 0, 0, 1, 0, 0, 0,\n",
              "        0, 0, 0, 0, 0, 0, 0, 8, 8, 0.0, 0.0, 0.0, 0.0, 1.0, 0.0, 0.0, 9,\n",
              "        9, 1.0, 0.0, 0.11, 0.0, 0.0, 0.0, 0.0, 0.0],\n",
              "       [0, b'tcp', b'http', b'SF', 239, 486, 0, 0, 0, 0, 0, 1, 0, 0, 0,\n",
              "        0, 0, 0, 0, 0, 0, 0, 8, 8, 0.0, 0.0, 0.0, 0.0, 1.0, 0.0, 0.0, 19,\n",
              "        19, 1.0, 0.0, 0.05, 0.0, 0.0, 0.0, 0.0, 0.0],\n",
              "       [0, b'tcp', b'http', b'SF', 235, 1337, 0, 0, 0, 0, 0, 1, 0, 0, 0,\n",
              "        0, 0, 0, 0, 0, 0, 0, 8, 8, 0.0, 0.0, 0.0, 0.0, 1.0, 0.0, 0.0, 29,\n",
              "        29, 1.0, 0.0, 0.03, 0.0, 0.0, 0.0, 0.0, 0.0],\n",
              "       [0, b'tcp', b'http', b'SF', 219, 1337, 0, 0, 0, 0, 0, 1, 0, 0, 0,\n",
              "        0, 0, 0, 0, 0, 0, 0, 6, 6, 0.0, 0.0, 0.0, 0.0, 1.0, 0.0, 0.0, 39,\n",
              "        39, 1.0, 0.0, 0.03, 0.0, 0.0, 0.0, 0.0, 0.0],\n",
              "       [0, b'tcp', b'http', b'SF', 217, 2032, 0, 0, 0, 0, 0, 1, 0, 0, 0,\n",
              "        0, 0, 0, 0, 0, 0, 0, 6, 6, 0.0, 0.0, 0.0, 0.0, 1.0, 0.0, 0.0, 49,\n",
              "        49, 1.0, 0.0, 0.02, 0.0, 0.0, 0.0, 0.0, 0.0]], dtype=object)"
            ]
          },
          "metadata": {},
          "execution_count": 84
        }
      ],
      "source": [
        "feature_matrix[:5]"
      ]
    },
    {
      "cell_type": "markdown",
      "metadata": {
        "id": "LNZs4Qw0tXXs"
      },
      "source": [
        "Find out the shape of the label matrix."
      ]
    },
    {
      "cell_type": "code",
      "execution_count": 85,
      "metadata": {
        "id": "Ju5s5PSMtXXt",
        "colab": {
          "base_uri": "https://localhost:8080/"
        },
        "outputId": "2195243b-8331-4c1d-f6f8-15b59939bec2"
      },
      "outputs": [
        {
          "output_type": "execute_result",
          "data": {
            "text/plain": [
              "(494021,)"
            ]
          },
          "metadata": {},
          "execution_count": 85
        }
      ],
      "source": [
        "label_matrix = kddcup99_dataset.target\n",
        "label_matrix.shape"
      ]
    },
    {
      "cell_type": "markdown",
      "metadata": {
        "id": "sG4dd09btXXt"
      },
      "source": [
        "Look at the labels of the first five examples."
      ]
    },
    {
      "cell_type": "code",
      "execution_count": 86,
      "metadata": {
        "id": "WyFOs2AAtXXt",
        "colab": {
          "base_uri": "https://localhost:8080/"
        },
        "outputId": "21a56e0f-c90a-45e9-8ecb-030bbfa5582f"
      },
      "outputs": [
        {
          "output_type": "execute_result",
          "data": {
            "text/plain": [
              "array([b'normal.', b'normal.', b'normal.', b'normal.', b'normal.'],\n",
              "      dtype=object)"
            ]
          },
          "metadata": {},
          "execution_count": 86
        }
      ],
      "source": [
        "label_matrix[:5]"
      ]
    },
    {
      "cell_type": "markdown",
      "metadata": {
        "id": "W-ejbCIQtXXt"
      },
      "source": [
        "Find out the names of the features."
      ]
    },
    {
      "cell_type": "code",
      "execution_count": 87,
      "metadata": {
        "id": "yGyosWP4tXXt",
        "colab": {
          "base_uri": "https://localhost:8080/"
        },
        "outputId": "e5b400ed-167f-4d14-aab0-4bbb320ad3dc"
      },
      "outputs": [
        {
          "output_type": "execute_result",
          "data": {
            "text/plain": [
              "['duration',\n",
              " 'protocol_type',\n",
              " 'service',\n",
              " 'flag',\n",
              " 'src_bytes',\n",
              " 'dst_bytes',\n",
              " 'land',\n",
              " 'wrong_fragment',\n",
              " 'urgent',\n",
              " 'hot',\n",
              " 'num_failed_logins',\n",
              " 'logged_in',\n",
              " 'num_compromised',\n",
              " 'root_shell',\n",
              " 'su_attempted',\n",
              " 'num_root',\n",
              " 'num_file_creations',\n",
              " 'num_shells',\n",
              " 'num_access_files',\n",
              " 'num_outbound_cmds',\n",
              " 'is_host_login',\n",
              " 'is_guest_login',\n",
              " 'count',\n",
              " 'srv_count',\n",
              " 'serror_rate',\n",
              " 'srv_serror_rate',\n",
              " 'rerror_rate',\n",
              " 'srv_rerror_rate',\n",
              " 'same_srv_rate',\n",
              " 'diff_srv_rate',\n",
              " 'srv_diff_host_rate',\n",
              " 'dst_host_count',\n",
              " 'dst_host_srv_count',\n",
              " 'dst_host_same_srv_rate',\n",
              " 'dst_host_diff_srv_rate',\n",
              " 'dst_host_same_src_port_rate',\n",
              " 'dst_host_srv_diff_host_rate',\n",
              " 'dst_host_serror_rate',\n",
              " 'dst_host_srv_serror_rate',\n",
              " 'dst_host_rerror_rate',\n",
              " 'dst_host_srv_rerror_rate']"
            ]
          },
          "metadata": {},
          "execution_count": 87
        }
      ],
      "source": [
        "kddcup99_dataset.feature_names"
      ]
    },
    {
      "cell_type": "markdown",
      "metadata": {
        "id": "_ioeru7ltXXt"
      },
      "source": [
        "Find names of class labels."
      ]
    },
    {
      "cell_type": "code",
      "execution_count": 88,
      "metadata": {
        "id": "v8qikeYmtXXu",
        "colab": {
          "base_uri": "https://localhost:8080/"
        },
        "outputId": "72eeae3f-621c-4b50-a57f-87573afd1b48"
      },
      "outputs": [
        {
          "output_type": "execute_result",
          "data": {
            "text/plain": [
              "['labels']"
            ]
          },
          "metadata": {},
          "execution_count": 88
        }
      ],
      "source": [
        "kddcup99_dataset.target_names"
      ]
    },
    {
      "cell_type": "markdown",
      "metadata": {
        "id": "11SPfnsVtlm4"
      },
      "source": [
        "# Generators"
      ]
    },
    {
      "cell_type": "markdown",
      "metadata": {
        "id": "9sKta_WnxmeR"
      },
      "source": [
        "### `make_regression`"
      ]
    },
    {
      "cell_type": "code",
      "execution_count": 89,
      "metadata": {
        "id": "3YtThLhlt8af"
      },
      "outputs": [],
      "source": [
        "from sklearn.datasets import make_regression\n",
        "?make_regression"
      ]
    },
    {
      "cell_type": "markdown",
      "metadata": {
        "id": "E1uM_6KatoYT"
      },
      "source": [
        "#### Example 1\n",
        "\n",
        "Let's generate 100 samples with 5 features for a single label regression problem."
      ]
    },
    {
      "cell_type": "code",
      "execution_count": 90,
      "metadata": {
        "id": "0txarhkHvIo4"
      },
      "outputs": [],
      "source": [
        "X, y = make_regression(n_samples=100, n_features=5, n_targets=1, shuffle=True, random_state=42)"
      ]
    },
    {
      "cell_type": "markdown",
      "metadata": {
        "id": "g71Fu_Npv9c0"
      },
      "source": [
        "It's a good practice to set seed so that we get to see repeatability in the experimentation."
      ]
    },
    {
      "cell_type": "markdown",
      "metadata": {
        "id": "0AkobIpIwPTl"
      },
      "source": [
        "Let's look at the shapes of feature matrix and label vector."
      ]
    },
    {
      "cell_type": "code",
      "execution_count": 91,
      "metadata": {
        "colab": {
          "base_uri": "https://localhost:8080/"
        },
        "id": "y5QaszYEwH3T",
        "outputId": "2e56a9f6-3ad5-4f7c-bfa8-fedf6dab28ab"
      },
      "outputs": [
        {
          "output_type": "execute_result",
          "data": {
            "text/plain": [
              "(100, 5)"
            ]
          },
          "metadata": {},
          "execution_count": 91
        }
      ],
      "source": [
        "X.shape"
      ]
    },
    {
      "cell_type": "code",
      "execution_count": 92,
      "metadata": {
        "colab": {
          "base_uri": "https://localhost:8080/"
        },
        "id": "onBo4zWswToE",
        "outputId": "37d2eabb-0482-4490-9815-3fbdeedce93c"
      },
      "outputs": [
        {
          "output_type": "execute_result",
          "data": {
            "text/plain": [
              "(100,)"
            ]
          },
          "metadata": {},
          "execution_count": 92
        }
      ],
      "source": [
        "y.shape"
      ]
    },
    {
      "cell_type": "markdown",
      "metadata": {
        "id": "DT5436PfwVnc"
      },
      "source": [
        "#### Example 2\n",
        "\n",
        "Let's generate 100 samples with 5 features for multiple regression problem with 5 outputs."
      ]
    },
    {
      "cell_type": "code",
      "execution_count": 93,
      "metadata": {
        "id": "0i5jmxJIwf7d"
      },
      "outputs": [],
      "source": [
        "X, y = make_regression(n_samples=100, n_features=5, n_targets=5, shuffle=True, random_state=42)"
      ]
    },
    {
      "cell_type": "markdown",
      "metadata": {
        "id": "AnjnSDRowwPN"
      },
      "source": [
        "Let's look at the shapes of feature matrix and label vector."
      ]
    },
    {
      "cell_type": "code",
      "execution_count": 94,
      "metadata": {
        "colab": {
          "base_uri": "https://localhost:8080/"
        },
        "id": "_CVzkI4DwxGx",
        "outputId": "f4370cdb-6987-4c21-ce10-7a567437f1a4"
      },
      "outputs": [
        {
          "output_type": "execute_result",
          "data": {
            "text/plain": [
              "(100, 5)"
            ]
          },
          "metadata": {},
          "execution_count": 94
        }
      ],
      "source": [
        "X.shape"
      ]
    },
    {
      "cell_type": "code",
      "execution_count": 95,
      "metadata": {
        "colab": {
          "base_uri": "https://localhost:8080/"
        },
        "id": "iBlknnn8wzKg",
        "outputId": "dac8bbaa-e7d6-4684-97e7-26efdee1e057"
      },
      "outputs": [
        {
          "output_type": "execute_result",
          "data": {
            "text/plain": [
              "(100, 5)"
            ]
          },
          "metadata": {},
          "execution_count": 95
        }
      ],
      "source": [
        "y.shape"
      ]
    },
    {
      "cell_type": "markdown",
      "metadata": {
        "id": "bR9Rllmtw0pd"
      },
      "source": [
        "Since we generated multi-output target with 5 outputs, the output has shape `(100, 5)`."
      ]
    },
    {
      "cell_type": "markdown",
      "metadata": {
        "id": "AzmTfT6exhur"
      },
      "source": [
        "## `make_classification`\n",
        "\n",
        "Generate a random $n$-class classification problem set up."
      ]
    },
    {
      "cell_type": "code",
      "execution_count": 96,
      "metadata": {
        "id": "VYeWjwchydoC"
      },
      "outputs": [],
      "source": [
        "from sklearn.datasets import make_classification\n",
        "?make_classification"
      ]
    },
    {
      "cell_type": "markdown",
      "metadata": {
        "id": "XRlXwE4wyo1w"
      },
      "source": [
        "Let's generate a binary classification problem with 10 features and 100 samples."
      ]
    },
    {
      "cell_type": "code",
      "execution_count": 97,
      "metadata": {
        "id": "A5QwoA2YywMz"
      },
      "outputs": [],
      "source": [
        "X, y = make_classification(n_samples=100, n_features=10, n_classes=2, n_clusters_per_class=1, random_state=42)"
      ]
    },
    {
      "cell_type": "markdown",
      "metadata": {
        "id": "NB_irsHDzJXt"
      },
      "source": [
        "Let's examine the shapes of feature matrix and label vector."
      ]
    },
    {
      "cell_type": "code",
      "execution_count": 98,
      "metadata": {
        "colab": {
          "base_uri": "https://localhost:8080/"
        },
        "id": "_w_CSWa1zI7V",
        "outputId": "2bed6c43-9da3-4ed6-8baa-ddf035c5f9a1"
      },
      "outputs": [
        {
          "output_type": "execute_result",
          "data": {
            "text/plain": [
              "(100, 10)"
            ]
          },
          "metadata": {},
          "execution_count": 98
        }
      ],
      "source": [
        "X.shape"
      ]
    },
    {
      "cell_type": "code",
      "execution_count": 99,
      "metadata": {
        "colab": {
          "base_uri": "https://localhost:8080/"
        },
        "id": "CjB4AfDlzSvQ",
        "outputId": "f5c6c007-0d04-4644-aff4-e0cf9d1ce21a"
      },
      "outputs": [
        {
          "output_type": "execute_result",
          "data": {
            "text/plain": [
              "(100,)"
            ]
          },
          "metadata": {},
          "execution_count": 99
        }
      ],
      "source": [
        "y.shape"
      ]
    },
    {
      "cell_type": "markdown",
      "metadata": {
        "id": "8iuFSsT3zWT3"
      },
      "source": [
        "Look at a few examples and their labels."
      ]
    },
    {
      "cell_type": "code",
      "execution_count": 100,
      "metadata": {
        "colab": {
          "base_uri": "https://localhost:8080/"
        },
        "id": "H1WOqJ88zc13",
        "outputId": "e5625944-4fbc-45fd-f2c6-24a5658a8ddc"
      },
      "outputs": [
        {
          "output_type": "execute_result",
          "data": {
            "text/plain": [
              "array([[ 0.11422765, -1.71016839, -0.06822216, -0.14928517,  0.30780177,\n",
              "         0.15030176, -0.05694562, -0.22595246, -0.36361221, -0.13818757],\n",
              "       [ 0.70775194, -1.57022472, -0.23503183, -0.63604713,  0.62180996,\n",
              "        -0.56246678,  0.97255445, -0.77719676,  0.63240774, -0.47809669],\n",
              "       [ 0.63859246,  0.04739867,  0.33273433,  1.1046981 , -0.65183611,\n",
              "        -1.66152006, -1.2110162 ,  1.09821151, -0.0660798 ,  0.68024225],\n",
              "       [-0.23894805, -0.97755524,  0.0379061 ,  0.19896733,  0.50091719,\n",
              "        -0.90756366,  0.75539123,  0.12437227, -0.57677133,  0.07871283],\n",
              "       [-0.59239392, -0.05023811,  0.17573204, -1.43949185,  0.27045683,\n",
              "        -0.86399077, -0.83095012,  0.60046915,  0.04852163,  0.32557953]])"
            ]
          },
          "metadata": {},
          "execution_count": 100
        }
      ],
      "source": [
        "X[:5]"
      ]
    },
    {
      "cell_type": "code",
      "execution_count": 101,
      "metadata": {
        "colab": {
          "base_uri": "https://localhost:8080/"
        },
        "id": "TELLpHNEzgMX",
        "outputId": "80202f5c-f6b5-40c3-863e-7b8aa62eb49d"
      },
      "outputs": [
        {
          "output_type": "execute_result",
          "data": {
            "text/plain": [
              "array([1, 1, 1, 1, 0])"
            ]
          },
          "metadata": {},
          "execution_count": 101
        }
      ],
      "source": [
        "y[:5]"
      ]
    },
    {
      "cell_type": "markdown",
      "metadata": {
        "id": "V3PWpe-Rzt5Y"
      },
      "source": [
        "Let's generate a three class classification problem with 100 samples and 10 features."
      ]
    },
    {
      "cell_type": "code",
      "execution_count": 102,
      "metadata": {
        "id": "ROmS3Lz8znzw"
      },
      "outputs": [],
      "source": [
        "X, y = make_classification(n_samples=100, n_features=10, n_classes=3, n_clusters_per_class=1, random_state=42)"
      ]
    },
    {
      "cell_type": "markdown",
      "metadata": {
        "id": "b5CDRJ45z48k"
      },
      "source": [
        "Let's examine shapes of feature matrix and labels."
      ]
    },
    {
      "cell_type": "code",
      "execution_count": 103,
      "metadata": {
        "colab": {
          "base_uri": "https://localhost:8080/"
        },
        "id": "0TqZGtrHzyqa",
        "outputId": "99384b6a-5d4c-48d9-a76c-4520f3d78964"
      },
      "outputs": [
        {
          "output_type": "execute_result",
          "data": {
            "text/plain": [
              "(100, 10)"
            ]
          },
          "metadata": {},
          "execution_count": 103
        }
      ],
      "source": [
        "X.shape"
      ]
    },
    {
      "cell_type": "code",
      "execution_count": 104,
      "metadata": {
        "colab": {
          "base_uri": "https://localhost:8080/"
        },
        "id": "o8ZLsfRNz0Bw",
        "outputId": "09cf5841-3fb3-40e8-bd5a-7cb3098a4f32"
      },
      "outputs": [
        {
          "output_type": "execute_result",
          "data": {
            "text/plain": [
              "(100,)"
            ]
          },
          "metadata": {},
          "execution_count": 104
        }
      ],
      "source": [
        "y.shape"
      ]
    },
    {
      "cell_type": "markdown",
      "metadata": {
        "id": "CqXb7ahT0AFh"
      },
      "source": [
        "Let's look at a few examples - features and labels."
      ]
    },
    {
      "cell_type": "code",
      "execution_count": 105,
      "metadata": {
        "colab": {
          "base_uri": "https://localhost:8080/"
        },
        "id": "lr8GyM2r0GmL",
        "outputId": "b2692a71-dedc-4eaf-f847-c7ff67141908"
      },
      "outputs": [
        {
          "output_type": "execute_result",
          "data": {
            "text/plain": [
              "array([[-0.58351628, -1.73833907, -1.37298251, -1.77311485,  0.45918008,\n",
              "         0.83392215, -1.66096093,  0.20768769, -0.07016571,  0.42961822],\n",
              "       [-1.0044394 , -1.43862044,  0.47335819, -0.21188291,  0.0125924 ,\n",
              "         0.22409248, -0.77300978,  0.49799829,  0.0976761 ,  0.02451017],\n",
              "       [ 0.07740833,  0.19896733,  0.12437227,  0.17738132, -0.97755524,\n",
              "         0.50091719,  0.75138712,  0.54336019,  0.09933231, -1.66940528],\n",
              "       [-0.91759569, -0.9609536 ,  1.07746664,  0.4522739 , -0.32138584,\n",
              "        -0.8254972 , -0.56372455,  0.24368721,  0.41293145, -0.8222204 ],\n",
              "       [-0.96222828, -0.96090774,  1.21530116,  0.55980482, -1.24778318,\n",
              "        -0.25256815, -1.43014138,  0.13074058,  1.6324113 , -0.44004449]])"
            ]
          },
          "metadata": {},
          "execution_count": 105
        }
      ],
      "source": [
        "X[:5]"
      ]
    },
    {
      "cell_type": "code",
      "execution_count": 106,
      "metadata": {
        "colab": {
          "base_uri": "https://localhost:8080/"
        },
        "id": "mEghbrdpz1Z4",
        "outputId": "ce64792a-c2a4-4417-c2bb-2c74ccfaface"
      },
      "outputs": [
        {
          "output_type": "execute_result",
          "data": {
            "text/plain": [
              "array([2, 0, 1, 0, 0])"
            ]
          },
          "metadata": {},
          "execution_count": 106
        }
      ],
      "source": [
        "y[:5]"
      ]
    },
    {
      "cell_type": "markdown",
      "metadata": {
        "id": "ODMcFEhd0QEi"
      },
      "source": [
        "## `make_multilabel_classification`\n",
        "\n",
        "This function helps us generating a random multi-label classification problem."
      ]
    },
    {
      "cell_type": "code",
      "execution_count": 107,
      "metadata": {
        "id": "MiVoOEiq5Zmq"
      },
      "outputs": [],
      "source": [
        "from sklearn.datasets import make_multilabel_classification\n",
        "?make_multilabel_classification"
      ]
    },
    {
      "cell_type": "markdown",
      "metadata": {
        "id": "EFIxZDWQ5m7b"
      },
      "source": [
        "Let's generate a multilabel classification problem with 100 samples, 10 features, 5 labels and on an average 2 labels per example."
      ]
    },
    {
      "cell_type": "code",
      "execution_count": 108,
      "metadata": {
        "id": "XaPxYC8Y5vHE"
      },
      "outputs": [],
      "source": [
        "X, y = make_multilabel_classification(n_samples=100, n_features=20, n_classes=5, n_labels=2)"
      ]
    },
    {
      "cell_type": "markdown",
      "metadata": {
        "id": "lU2rKz7h6D71"
      },
      "source": [
        "First of all, let's examine shapes of feature matrix and label vector."
      ]
    },
    {
      "cell_type": "code",
      "execution_count": 109,
      "metadata": {
        "colab": {
          "base_uri": "https://localhost:8080/"
        },
        "id": "_j71ETA56AnV",
        "outputId": "3ac5fe83-13f2-4733-a55f-64496e3da000"
      },
      "outputs": [
        {
          "output_type": "execute_result",
          "data": {
            "text/plain": [
              "(100, 20)"
            ]
          },
          "metadata": {},
          "execution_count": 109
        }
      ],
      "source": [
        "X.shape"
      ]
    },
    {
      "cell_type": "code",
      "execution_count": 110,
      "metadata": {
        "colab": {
          "base_uri": "https://localhost:8080/"
        },
        "id": "JkToULp76CHW",
        "outputId": "85a03414-ae01-4760-e875-ba84e8f8a562"
      },
      "outputs": [
        {
          "output_type": "execute_result",
          "data": {
            "text/plain": [
              "(100, 5)"
            ]
          },
          "metadata": {},
          "execution_count": 110
        }
      ],
      "source": [
        "y.shape"
      ]
    },
    {
      "cell_type": "markdown",
      "metadata": {
        "id": "ExHH-52u6KEe"
      },
      "source": [
        "Let's examine a few rows of feature matrix and label matrix."
      ]
    },
    {
      "cell_type": "code",
      "execution_count": 111,
      "metadata": {
        "colab": {
          "base_uri": "https://localhost:8080/"
        },
        "id": "EpQeVgkD6ODW",
        "outputId": "a4c32941-f392-4ec4-9b4a-864fe3c3df46"
      },
      "outputs": [
        {
          "output_type": "execute_result",
          "data": {
            "text/plain": [
              "array([[2., 1., 4., 1., 0., 1., 1., 0., 1., 1., 2., 3., 1., 2., 2., 2.,\n",
              "        1., 7., 3., 3.],\n",
              "       [4., 1., 0., 1., 0., 1., 4., 5., 2., 2., 2., 3., 1., 0., 4., 4.,\n",
              "        0., 3., 2., 3.],\n",
              "       [4., 3., 1., 2., 4., 2., 1., 2., 3., 0., 5., 2., 2., 1., 0., 1.,\n",
              "        1., 1., 1., 3.],\n",
              "       [1., 0., 3., 4., 4., 1., 0., 1., 2., 4., 0., 1., 3., 3., 1., 3.,\n",
              "        0., 3., 1., 3.],\n",
              "       [3., 4., 2., 2., 2., 0., 1., 0., 3., 1., 2., 3., 6., 2., 5., 5.,\n",
              "        0., 7., 3., 5.]])"
            ]
          },
          "metadata": {},
          "execution_count": 111
        }
      ],
      "source": [
        "X[:5]"
      ]
    },
    {
      "cell_type": "code",
      "execution_count": 112,
      "metadata": {
        "colab": {
          "base_uri": "https://localhost:8080/"
        },
        "id": "XBmeY2eI6R8v",
        "outputId": "c163a151-3c3e-4c7d-e0e2-99b91df179d1"
      },
      "outputs": [
        {
          "output_type": "execute_result",
          "data": {
            "text/plain": [
              "array([[0, 1, 1, 0, 0],\n",
              "       [0, 1, 1, 0, 1],\n",
              "       [0, 0, 0, 0, 0],\n",
              "       [1, 0, 1, 0, 1],\n",
              "       [0, 0, 1, 1, 1]])"
            ]
          },
          "metadata": {},
          "execution_count": 112
        }
      ],
      "source": [
        "y[:5]"
      ]
    },
    {
      "cell_type": "markdown",
      "metadata": {
        "id": "nm-n3v_V0lHN"
      },
      "source": [
        "## `make_blobs`\n",
        "\n",
        "`make_blobs` enables us to generate random data for clustering."
      ]
    },
    {
      "cell_type": "code",
      "execution_count": 113,
      "metadata": {
        "id": "pGAFZA9B7X-M"
      },
      "outputs": [],
      "source": [
        "from sklearn.datasets import make_blobs\n",
        "?make_blobs"
      ]
    },
    {
      "cell_type": "markdown",
      "metadata": {
        "id": "XsYfdnT97uK3"
      },
      "source": [
        "Let's generate a random dataset of 10 samples with 2 features each for clustering."
      ]
    },
    {
      "cell_type": "code",
      "execution_count": 114,
      "metadata": {
        "colab": {
          "base_uri": "https://localhost:8080/"
        },
        "id": "AU6fP-rX7uju",
        "outputId": "c9460e6c-e705-4772-94db-4c7feb6433a1"
      },
      "outputs": [
        {
          "output_type": "stream",
          "name": "stdout",
          "text": [
            "Feature matrix shape: (10, 2)\n",
            "Label shape: (10,)\n"
          ]
        }
      ],
      "source": [
        "X, y = make_blobs(n_samples=10, centers=3, n_features=2, random_state=42)\n",
        "print (\"Feature matrix shape:\", X.shape)\n",
        "print (\"Label shape:\", y.shape)"
      ]
    },
    {
      "cell_type": "markdown",
      "metadata": {
        "id": "tYY94Ppo8LQC"
      },
      "source": [
        "We can find the cluster membership of each point in `y`."
      ]
    },
    {
      "cell_type": "code",
      "execution_count": 115,
      "metadata": {
        "colab": {
          "base_uri": "https://localhost:8080/"
        },
        "id": "Kb3d52Ke8Rya",
        "outputId": "aa07e592-6bcf-4acb-bfb3-f3caf2ba6775"
      },
      "outputs": [
        {
          "output_type": "execute_result",
          "data": {
            "text/plain": [
              "array([2, 2, 1, 2, 0, 0, 0, 1, 1, 0])"
            ]
          },
          "metadata": {},
          "execution_count": 115
        }
      ],
      "source": [
        "y"
      ]
    }
  ],
  "metadata": {
    "colab": {
      "provenance": []
    },
    "kernelspec": {
      "display_name": "Python 3 (ipykernel)",
      "language": "python",
      "name": "python3"
    },
    "language_info": {
      "codemirror_mode": {
        "name": "ipython",
        "version": 3
      },
      "file_extension": ".py",
      "mimetype": "text/x-python",
      "name": "python",
      "nbconvert_exporter": "python",
      "pygments_lexer": "ipython3",
      "version": "3.9.16"
    }
  },
  "nbformat": 4,
  "nbformat_minor": 0
}